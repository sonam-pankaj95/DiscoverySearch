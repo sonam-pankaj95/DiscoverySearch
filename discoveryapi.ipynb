{
 "cells": [
  {
   "cell_type": "code",
   "execution_count": 1,
   "metadata": {},
   "outputs": [
    {
     "name": "stdout",
     "output_type": "stream",
     "text": [
      "Collecting qdrant-client\n",
      "  Using cached qdrant_client-1.7.0-py3-none-any.whl (203 kB)\n",
      "Collecting grpcio>=1.41.0 (from qdrant-client)\n",
      "  Downloading grpcio-1.60.0-cp311-cp311-win_amd64.whl (3.7 MB)\n",
      "                                              0.0/3.7 MB ? eta -:--:--\n",
      "     --                                       0.2/3.7 MB 7.0 MB/s eta 0:00:01\n",
      "     -----                                    0.5/3.7 MB 8.3 MB/s eta 0:00:01\n",
      "     --------                                 0.8/3.7 MB 8.0 MB/s eta 0:00:01\n",
      "     -----------                              1.1/3.7 MB 7.6 MB/s eta 0:00:01\n",
      "     --------------                           1.4/3.7 MB 7.2 MB/s eta 0:00:01\n",
      "     -----------------                        1.6/3.7 MB 7.5 MB/s eta 0:00:01\n",
      "     ---------------------                    2.0/3.7 MB 7.1 MB/s eta 0:00:01\n",
      "     ------------------------                 2.3/3.7 MB 7.3 MB/s eta 0:00:01\n",
      "     ----------------------------             2.6/3.7 MB 7.2 MB/s eta 0:00:01\n",
      "     ------------------------------           2.9/3.7 MB 7.3 MB/s eta 0:00:01\n",
      "     ---------------------------------        3.1/3.7 MB 7.1 MB/s eta 0:00:01\n",
      "     ------------------------------------     3.4/3.7 MB 7.2 MB/s eta 0:00:01\n",
      "     ---------------------------------------  3.7/3.7 MB 7.1 MB/s eta 0:00:01\n",
      "     ---------------------------------------- 3.7/3.7 MB 6.9 MB/s eta 0:00:00\n",
      "Collecting grpcio-tools>=1.41.0 (from qdrant-client)\n",
      "  Downloading grpcio_tools-1.60.0-cp311-cp311-win_amd64.whl (1.1 MB)\n",
      "                                              0.0/1.1 MB ? eta -:--:--\n",
      "     ---------                                0.3/1.1 MB 8.0 MB/s eta 0:00:01\n",
      "     -------------------                      0.5/1.1 MB 6.7 MB/s eta 0:00:01\n",
      "     -----------------------------            0.8/1.1 MB 8.2 MB/s eta 0:00:01\n",
      "     --------------------------------------   1.0/1.1 MB 7.2 MB/s eta 0:00:01\n",
      "     ---------------------------------------- 1.1/1.1 MB 6.7 MB/s eta 0:00:00\n",
      "Collecting httpx[http2]>=0.14.0 (from qdrant-client)\n",
      "  Downloading httpx-0.26.0-py3-none-any.whl (75 kB)\n",
      "                                              0.0/75.9 kB ? eta -:--:--\n",
      "     ---------------------------------------- 75.9/75.9 kB 4.1 MB/s eta 0:00:00\n",
      "Collecting numpy>=1.21 (from qdrant-client)\n",
      "  Downloading numpy-1.26.2-cp311-cp311-win_amd64.whl (15.8 MB)\n",
      "                                              0.0/15.8 MB ? eta -:--:--\n",
      "                                              0.3/15.8 MB 8.3 MB/s eta 0:00:02\n",
      "     -                                        0.6/15.8 MB 7.1 MB/s eta 0:00:03\n",
      "     --                                       0.9/15.8 MB 7.8 MB/s eta 0:00:02\n",
      "     --                                       1.1/15.8 MB 7.0 MB/s eta 0:00:03\n",
      "     ---                                      1.4/15.8 MB 7.2 MB/s eta 0:00:02\n",
      "     ----                                     1.7/15.8 MB 7.0 MB/s eta 0:00:03\n",
      "     ----                                     1.9/15.8 MB 7.2 MB/s eta 0:00:02\n",
      "     -----                                    2.2/15.8 MB 7.4 MB/s eta 0:00:02\n",
      "     -----                                    2.3/15.8 MB 7.3 MB/s eta 0:00:02\n",
      "     -----                                    2.3/15.8 MB 7.3 MB/s eta 0:00:02\n",
      "     -------                                  3.0/15.8 MB 7.0 MB/s eta 0:00:02\n",
      "     --------                                 3.2/15.8 MB 7.1 MB/s eta 0:00:02\n",
      "     --------                                 3.5/15.8 MB 7.1 MB/s eta 0:00:02\n",
      "     ---------                                3.8/15.8 MB 7.0 MB/s eta 0:00:02\n",
      "     ----------                               4.0/15.8 MB 7.1 MB/s eta 0:00:02\n",
      "     ----------                               4.3/15.8 MB 7.2 MB/s eta 0:00:02\n",
      "     -----------                              4.6/15.8 MB 7.1 MB/s eta 0:00:02\n",
      "     ------------                             4.8/15.8 MB 7.1 MB/s eta 0:00:02\n",
      "     ------------                             5.1/15.8 MB 7.0 MB/s eta 0:00:02\n",
      "     -------------                            5.4/15.8 MB 7.1 MB/s eta 0:00:02\n",
      "     --------------                           5.6/15.8 MB 7.1 MB/s eta 0:00:02\n",
      "     --------------                           5.8/15.8 MB 7.2 MB/s eta 0:00:02\n",
      "     ---------------                          6.2/15.8 MB 7.1 MB/s eta 0:00:02\n",
      "     ----------------                         6.4/15.8 MB 7.0 MB/s eta 0:00:02\n",
      "     ----------------                         6.7/15.8 MB 7.1 MB/s eta 0:00:02\n",
      "     -----------------                        6.9/15.8 MB 7.2 MB/s eta 0:00:02\n",
      "     -----------------                        7.0/15.8 MB 7.1 MB/s eta 0:00:02\n",
      "     -----------------                        7.1/15.8 MB 6.8 MB/s eta 0:00:02\n",
      "     ------------------                       7.3/15.8 MB 6.8 MB/s eta 0:00:02\n",
      "     ------------------                       7.5/15.8 MB 6.7 MB/s eta 0:00:02\n",
      "     --------------------                     8.0/15.8 MB 6.9 MB/s eta 0:00:02\n",
      "     ---------------------                    8.5/15.8 MB 7.1 MB/s eta 0:00:02\n",
      "     ----------------------                   8.8/15.8 MB 7.1 MB/s eta 0:00:01\n",
      "     -----------------------                  9.1/15.8 MB 7.2 MB/s eta 0:00:01\n",
      "     -----------------------                  9.3/15.8 MB 7.1 MB/s eta 0:00:01\n",
      "     ------------------------                 9.6/15.8 MB 7.2 MB/s eta 0:00:01\n",
      "     -------------------------                9.9/15.8 MB 7.1 MB/s eta 0:00:01\n",
      "     -------------------------                10.1/15.8 MB 7.1 MB/s eta 0:00:01\n",
      "     --------------------------               10.4/15.8 MB 7.1 MB/s eta 0:00:01\n",
      "     ---------------------------              10.7/15.8 MB 7.1 MB/s eta 0:00:01\n",
      "     ---------------------------              11.0/15.8 MB 7.2 MB/s eta 0:00:01\n",
      "     ----------------------------             11.2/15.8 MB 7.1 MB/s eta 0:00:01\n",
      "     -----------------------------            11.5/15.8 MB 7.1 MB/s eta 0:00:01\n",
      "     -----------------------------            11.8/15.8 MB 7.1 MB/s eta 0:00:01\n",
      "     ------------------------------           12.1/15.8 MB 7.2 MB/s eta 0:00:01\n",
      "     -------------------------------          12.3/15.8 MB 7.2 MB/s eta 0:00:01\n",
      "     -------------------------------          12.6/15.8 MB 7.4 MB/s eta 0:00:01\n",
      "     --------------------------------         12.9/15.8 MB 7.4 MB/s eta 0:00:01\n",
      "     ---------------------------------        13.2/15.8 MB 7.2 MB/s eta 0:00:01\n",
      "     ----------------------------------       13.5/15.8 MB 7.2 MB/s eta 0:00:01\n",
      "     ----------------------------------       13.7/15.8 MB 7.1 MB/s eta 0:00:01\n",
      "     -----------------------------------      14.0/15.8 MB 7.2 MB/s eta 0:00:01\n",
      "     ------------------------------------     14.2/15.8 MB 7.2 MB/s eta 0:00:01\n",
      "     ------------------------------------     14.5/15.8 MB 7.1 MB/s eta 0:00:01\n",
      "     -------------------------------------    14.8/15.8 MB 7.2 MB/s eta 0:00:01\n",
      "     --------------------------------------   15.1/15.8 MB 7.1 MB/s eta 0:00:01\n",
      "     --------------------------------------   15.4/15.8 MB 7.2 MB/s eta 0:00:01\n",
      "     ---------------------------------------  15.6/15.8 MB 7.1 MB/s eta 0:00:01\n",
      "     ---------------------------------------  15.8/15.8 MB 7.2 MB/s eta 0:00:01\n",
      "     ---------------------------------------- 15.8/15.8 MB 7.0 MB/s eta 0:00:00\n",
      "Collecting portalocker<3.0.0,>=2.7.0 (from qdrant-client)\n",
      "  Using cached portalocker-2.8.2-py3-none-any.whl (17 kB)\n",
      "Collecting pydantic>=1.10.8 (from qdrant-client)\n",
      "  Using cached pydantic-2.5.2-py3-none-any.whl (381 kB)\n",
      "Collecting urllib3<2.0.0,>=1.26.14 (from qdrant-client)\n",
      "  Using cached urllib3-1.26.18-py2.py3-none-any.whl (143 kB)\n",
      "Collecting protobuf<5.0dev,>=4.21.6 (from grpcio-tools>=1.41.0->qdrant-client)\n",
      "  Downloading protobuf-4.25.1-cp310-abi3-win_amd64.whl (413 kB)\n",
      "                                              0.0/413.4 kB ? eta -:--:--\n",
      "     -------------------------              276.5/413.4 kB 5.7 MB/s eta 0:00:01\n",
      "     -------------------------------------- 413.4/413.4 kB 6.5 MB/s eta 0:00:00\n",
      "Requirement already satisfied: setuptools in c:\\users\\sonam\\appdata\\local\\programs\\python\\python311\\lib\\site-packages (from grpcio-tools>=1.41.0->qdrant-client) (65.5.0)\n",
      "Collecting anyio (from httpx[http2]>=0.14.0->qdrant-client)\n",
      "  Downloading anyio-4.2.0-py3-none-any.whl (85 kB)\n",
      "                                              0.0/85.5 kB ? eta -:--:--\n",
      "     ---------------------------------------- 85.5/85.5 kB ? eta 0:00:00\n",
      "Requirement already satisfied: certifi in c:\\users\\sonam\\appdata\\local\\programs\\python\\python311\\lib\\site-packages (from httpx[http2]>=0.14.0->qdrant-client) (2023.11.17)\n",
      "Collecting httpcore==1.* (from httpx[http2]>=0.14.0->qdrant-client)\n",
      "  Downloading httpcore-1.0.2-py3-none-any.whl (76 kB)\n",
      "                                              0.0/76.9 kB ? eta -:--:--\n",
      "     ---------------------------------------- 76.9/76.9 kB 4.2 MB/s eta 0:00:00\n",
      "Requirement already satisfied: idna in c:\\users\\sonam\\appdata\\local\\programs\\python\\python311\\lib\\site-packages (from httpx[http2]>=0.14.0->qdrant-client) (3.6)\n",
      "Collecting sniffio (from httpx[http2]>=0.14.0->qdrant-client)\n",
      "  Using cached sniffio-1.3.0-py3-none-any.whl (10 kB)\n",
      "Collecting h2<5,>=3 (from httpx[http2]>=0.14.0->qdrant-client)\n",
      "  Using cached h2-4.1.0-py3-none-any.whl (57 kB)\n",
      "Collecting h11<0.15,>=0.13 (from httpcore==1.*->httpx[http2]>=0.14.0->qdrant-client)\n",
      "  Using cached h11-0.14.0-py3-none-any.whl (58 kB)\n",
      "Requirement already satisfied: pywin32>=226 in c:\\users\\sonam\\appdata\\roaming\\python\\python311\\site-packages (from portalocker<3.0.0,>=2.7.0->qdrant-client) (306)\n",
      "Collecting annotated-types>=0.4.0 (from pydantic>=1.10.8->qdrant-client)\n",
      "  Using cached annotated_types-0.6.0-py3-none-any.whl (12 kB)\n",
      "Collecting pydantic-core==2.14.5 (from pydantic>=1.10.8->qdrant-client)\n",
      "  Using cached pydantic_core-2.14.5-cp311-none-win_amd64.whl (1.9 MB)\n",
      "Collecting typing-extensions>=4.6.1 (from pydantic>=1.10.8->qdrant-client)\n",
      "  Downloading typing_extensions-4.9.0-py3-none-any.whl (32 kB)\n",
      "Collecting hyperframe<7,>=6.0 (from h2<5,>=3->httpx[http2]>=0.14.0->qdrant-client)\n",
      "  Using cached hyperframe-6.0.1-py3-none-any.whl (12 kB)\n",
      "Collecting hpack<5,>=4.0 (from h2<5,>=3->httpx[http2]>=0.14.0->qdrant-client)\n",
      "  Using cached hpack-4.0.0-py3-none-any.whl (32 kB)\n",
      "Installing collected packages: urllib3, typing-extensions, sniffio, protobuf, portalocker, numpy, hyperframe, hpack, h11, grpcio, annotated-types, pydantic-core, httpcore, h2, grpcio-tools, anyio, pydantic, httpx, qdrant-client\n",
      "  Attempting uninstall: urllib3\n",
      "    Found existing installation: urllib3 2.1.0\n",
      "    Uninstalling urllib3-2.1.0:\n",
      "      Successfully uninstalled urllib3-2.1.0\n",
      "Successfully installed annotated-types-0.6.0 anyio-4.2.0 grpcio-1.60.0 grpcio-tools-1.60.0 h11-0.14.0 h2-4.1.0 hpack-4.0.0 httpcore-1.0.2 httpx-0.26.0 hyperframe-6.0.1 numpy-1.26.2 portalocker-2.8.2 protobuf-4.25.1 pydantic-2.5.2 pydantic-core-2.14.5 qdrant-client-1.7.0 sniffio-1.3.0 typing-extensions-4.9.0 urllib3-1.26.18\n"
     ]
    },
    {
     "name": "stderr",
     "output_type": "stream",
     "text": [
      "\n",
      "[notice] A new release of pip is available: 23.1.2 -> 23.3.2\n",
      "[notice] To update, run: python.exe -m pip install --upgrade pip\n"
     ]
    }
   ],
   "source": [
    "!pip install qdrant-client\n"
   ]
  },
  {
   "cell_type": "code",
   "execution_count": 19,
   "metadata": {},
   "outputs": [],
   "source": [
    "from qdrant_client import QdrantClient\n",
    "from qdrant_client.http import models\n",
    "\n",
    "client = QdrantClient(\"https://abbde7de-051d-46de-92ea-39217bb63cfa.eastus-0.azure.cloud.qdrant.io:6333\", api_key=\"F8B9N1fSbpJfZFFg4UbnMC5_vXcN3KgYRJWDV3cm3h6VNaqtdEyeJA\")\n",
    "\n",
    "record = client.scroll(\n",
    "    collection_name='midjourney-CLIP-ViT-H-14-laion2B-s32B-b79K', \n",
    "    limit=10)\n",
    "#client.search(collection_name='midjourney-CLIP-ViT-H-14-laion2B-s32B-b79K', )"
   ]
  },
  {
   "cell_type": "code",
   "execution_count": 55,
   "metadata": {},
   "outputs": [
    {
     "data": {
      "text/plain": [
       "([Record(id=1130272851228893234, payload={'channel_id': '989268300473192561', 'content': '**<https://s.mj.run/g2s3FRzfEZI> <https://s.mj.run/eG5yGrR71OE>** - Image #3 <@395434366219845632>', 'height': 1024, 'id': '1130272851606372404', 'size': 269888, 'split': 'train', 'timestamp': '2023-07-16T23:00:47.277000+00:00', 'url': 'https://cdn.discordapp.com/attachments/989268300473192561/1130272851228893234/art_vandelay_None_044b2ead-1b66-42ee-81e7-aa7a4cb2edf1.png', 'width': 1024}, vector=None, shard_key=None),\n",
       "  Record(id=1130273694015565955, payload={'channel_id': '989268300473192561', 'content': '**<https://s.mj.run/g2s3FRzfEZI> <https://s.mj.run/eG5yGrR71OE> --ar 16:9** - Image #1 <@395434366219845632>', 'height': 816, 'id': '1130273694212702358', 'size': 214856, 'split': 'train', 'timestamp': '2023-07-16T23:04:08.170000+00:00', 'url': 'https://cdn.discordapp.com/attachments/989268300473192561/1130273694015565955/art_vandelay_None_3e835dd0-b1b4-48a2-a53b-6827ff9331be.png', 'width': 1456}, vector=None, shard_key=None),\n",
       "  Record(id=1130278607466541116, payload={'channel_id': '989268300473192561', 'content': '**minimalist logo spotlight shining down on text** - Image #1 <@1122095248911388732>', 'height': 1024, 'id': '1130278607697231932', 'size': 196563, 'split': 'train', 'timestamp': '2023-07-16T23:23:39.636000+00:00', 'url': 'https://cdn.discordapp.com/attachments/989268300473192561/1130278607466541116/xlizzylizx_minimalist_logo_spotlight_shining_down_on_text_4729ad34-4300-43fa-a0fb-ae90bd3b2699.png', 'width': 1024}, vector=None, shard_key=None),\n",
       "  Record(id=1130281133863620638, payload={'channel_id': '989268300473192561', 'content': '**alien succulent laser beam** - Image #2 <@896152711702130730>', 'height': 1024, 'id': '1130281134132039780', 'size': 1500471, 'split': 'train', 'timestamp': '2023-07-16T23:33:41.985000+00:00', 'url': 'https://cdn.discordapp.com/attachments/989268300473192561/1130281133863620638/mostfrantic_alien_succulent_laser_beam_6397b68a-109e-4fe5-9731-ee436512a2ea.png', 'width': 1024}, vector=None, shard_key=None),\n",
       "  Record(id=1130282326513963118, payload={'channel_id': '989268300473192561', 'content': \"**Keanu reeves meditating in the lotus position in a setting that looks like Tron's legacy. 8K photo-realistic** - Image #1 <@849031264278151178>\", 'height': 1024, 'id': '1130282326467805205', 'size': 1446987, 'split': 'train', 'timestamp': '2023-07-16T23:38:26.260000+00:00', 'url': 'https://cdn.discordapp.com/attachments/989268300473192561/1130282326513963118/mata86_Keanu_reeves_meditating_in_the_lotus_position_in_a_setti_5693ea52-847f-4779-a1d7-713cbc27cc7d.png', 'width': 1024}, vector=None, shard_key=None),\n",
       "  Record(id=1130283861255925800, payload={'channel_id': '989268300473192561', 'content': '**minimalist logo spotlight shining down on cinema seats, vector** - Image #2 <@1122095248911388732>', 'height': 1024, 'id': '1130283861205585962', 'size': 1087987, 'split': 'train', 'timestamp': '2023-07-16T23:44:32.170000+00:00', 'url': 'https://cdn.discordapp.com/attachments/989268300473192561/1130283861255925800/xlizzylizx_minimalist_logo_spotlight_shining_down_on_cinema_sea_5e3f9f25-dde1-4d4e-9da9-c7dc23c8cd81.png', 'width': 1024}, vector=None, shard_key=None),\n",
       "  Record(id=1130288838841991168, payload={'channel_id': '989268300473192561', 'content': '**minimalist logo oceans currents with wood color ink** - Image #3 <@678323456969801780>', 'height': 1024, 'id': '1130288839320150117', 'size': 1107107, 'split': 'train', 'timestamp': '2023-07-17T00:04:19.045000+00:00', 'url': 'https://cdn.discordapp.com/attachments/989268300473192561/1130288838841991168/SnookSlayer_minimalist_logo_oceans_currents_with_wood_color_ink_30338e11-bf2e-4f89-a986-3d8e6e347f6a.png', 'width': 1024}, vector=None, shard_key=None),\n",
       "  Record(id=1130293749201764464, payload={'channel_id': '989268300473192561', 'content': '**kratos with chains and sword on a unicorn, 4k, make it real,--4k,--ar 3:15** - Image #2 <@1127813054986457098>', 'height': 1024, 'id': '1130293749830926456', 'size': 1711299, 'split': 'train', 'timestamp': '2023-07-17T00:23:49.802000+00:00', 'url': 'https://cdn.discordapp.com/attachments/989268300473192561/1130293749201764464/Mysticangel_kratos_with_chains_and_sword_on_a_unicorn_4k_make_i_1f20d9ff-3bce-4cff-9cdc-44df2501d015.png', 'width': 1024}, vector=None, shard_key=None),\n",
       "  Record(id=1130298048648585287, payload={'channel_id': '989268300473192561', 'content': '**<https://s.mj.run/vdNnQPfUw6Q> <The same photo but in cartoon style** - Image #1 <@1071924589707403324>', 'height': 1024, 'id': '1130298048606650410', 'size': 1861697, 'split': 'train', 'timestamp': '2023-07-17T00:40:54.710000+00:00', 'url': 'https://cdn.discordapp.com/attachments/989268300473192561/1130298048648585287/thekingbuba_The_same_photo_but_in_cartoon_style_2d78ee21-4fac-43bd-bbf6-463ad01c7c0e.png', 'width': 1024}, vector=None, shard_key=None),\n",
       "  Record(id=1130306070150123540, payload={'channel_id': '989268300473192561', 'content': '**Mountain style shot of Steve Jobs wearing orange monk robes, volumetric lighting, shot on lomography color negative 800 --v 5.2 --ar 9:16** - Image #1 <@783865765521784843>', 'height': 1456, 'id': '1130306070552772608', 'size': 1812258, 'split': 'train', 'timestamp': '2023-07-17T01:12:47.291000+00:00', 'url': 'https://cdn.discordapp.com/attachments/989268300473192561/1130306070150123540/Thewayis._Mountain_style_shot_of_Steve_Jobs_wearing_orange_monk_410879f1-4020-4601-b5d3-1f4e1d9b3ad4.png', 'width': 816}, vector=None, shard_key=None)],\n",
       " 1130306478822137937)"
      ]
     },
     "execution_count": 55,
     "metadata": {},
     "output_type": "execute_result"
    }
   ],
   "source": [
    "record"
   ]
  },
  {
   "cell_type": "code",
   "execution_count": 64,
   "metadata": {},
   "outputs": [],
   "source": [
    "recordList = record[0]"
   ]
  },
  {
   "cell_type": "code",
   "execution_count": 65,
   "metadata": {},
   "outputs": [],
   "source": [
    "contents = [record.payload['content'] for record in recordList]\n"
   ]
  },
  {
   "cell_type": "code",
   "execution_count": 68,
   "metadata": {},
   "outputs": [
    {
     "data": {
      "text/plain": [
       "Record(id=1130273694015565955, payload={'channel_id': '989268300473192561', 'content': '**<https://s.mj.run/g2s3FRzfEZI> <https://s.mj.run/eG5yGrR71OE> --ar 16:9** - Image #1 <@395434366219845632>', 'height': 816, 'id': '1130273694212702358', 'size': 214856, 'split': 'train', 'timestamp': '2023-07-16T23:04:08.170000+00:00', 'url': 'https://cdn.discordapp.com/attachments/989268300473192561/1130273694015565955/art_vandelay_None_3e835dd0-b1b4-48a2-a53b-6827ff9331be.png', 'width': 1456}, vector=None, shard_key=None)"
      ]
     },
     "execution_count": 68,
     "metadata": {},
     "output_type": "execute_result"
    }
   ],
   "source": [
    "record[0][1]"
   ]
  },
  {
   "cell_type": "code",
   "execution_count": 60,
   "metadata": {},
   "outputs": [
    {
     "data": {
      "text/plain": [
       "'1130272851606372404'"
      ]
     },
     "execution_count": 60,
     "metadata": {},
     "output_type": "execute_result"
    }
   ],
   "source": [
    "record[0][0].payload['id']"
   ]
  },
  {
   "cell_type": "code",
   "execution_count": 39,
   "metadata": {},
   "outputs": [
    {
     "data": {
      "text/plain": [
       "'1130278607697231932'"
      ]
     },
     "execution_count": 39,
     "metadata": {},
     "output_type": "execute_result"
    }
   ],
   "source": [
    "record[0][2].payload['id']"
   ]
  },
  {
   "cell_type": "code",
   "execution_count": 82,
   "metadata": {},
   "outputs": [],
   "source": [
    "discover_queries = [\n",
    "    models.DiscoverRequest(\n",
    "        context=[\n",
    "            models.ContextExamplePair(\n",
    "                positive=1130278607466541116,\n",
    "                negative=1130273694015565955,\n",
    "            ),\n",
    "        ],\n",
    "        using = \"prompt\",\n",
    "        with_payload = True,\n",
    "        limit=10,\n",
    "    ),\n",
    "]"
   ]
  },
  {
   "cell_type": "code",
   "execution_count": 83,
   "metadata": {},
   "outputs": [
    {
     "data": {
      "text/plain": [
       "[DiscoverRequest(shard_key=None, target=None, context=[ContextExamplePair(positive=1130278607466541116, negative=1130273694015565955)], filter=None, params=None, limit=10, offset=None, with_payload=True, with_vector=None, using='prompt', lookup_from=None)]"
      ]
     },
     "execution_count": 83,
     "metadata": {},
     "output_type": "execute_result"
    }
   ],
   "source": [
    "discover_queries"
   ]
  },
  {
   "cell_type": "code",
   "execution_count": 84,
   "metadata": {},
   "outputs": [
    {
     "data": {
      "text/plain": [
       "[[ScoredPoint(id=1137973870419259544, version=1977, score=0.0, payload={'channel_id': '989268300473192561', 'content': '**Bottle label design for a CBD oil with a semi-circular cannabis leaf graphic (green) in the upper right corner, a full cannabis leaf (green) in the lower left corner, a wavy oil shape border (yellow) in the upper left corner, a wavy oil shape border (yellow) in the lower right corner. The designs in the four corners should have an asymmetrical aesthetic. The background color is light yellow. The design style is illustrative and minimalist. Offset to the left in the middle, there is a logo with a droplet of oil to the left and the letters \"H\" and \"F\" (letters are hollow) to the right, both letters having a stylish design. Below the logo is the full company name (in lowercase): Hemp Family.** - Image #1 <@1059164966311178310>', 'height': 1024, 'id': '1137973870591217815', 'size': 1190179, 'split': 'train', 'timestamp': '2023-08-07T05:01:53.281000+00:00', 'url': 'https://cdn.discordapp.com/attachments/989268300473192561/1137973870419259544/leopard2291_Bottle_label_design_for_a_CBD_oil_with_a_semi-circu_dec9eef5-3666-4c42-9007-f2cdb93df27d.png', 'width': 1024}, vector=None, shard_key=None),\n",
       "  ScoredPoint(id=1138311369037447189, version=1912, score=0.0, payload={'channel_id': '989268300473192561', 'content': '**A business card, with a Christmas design style, lies flat on a wooden table, rendered in a realistic painting style --ar 16:9** - Image #3 <@1086372494367269005>', 'height': 816, 'id': '1138311369352028220', 'size': 1483023, 'split': 'train', 'timestamp': '2023-08-08T03:22:59.256000+00:00', 'url': 'https://cdn.discordapp.com/attachments/989268300473192561/1138311369037447189/light5501_A_business_card_with_a_Christmas_design_style_lies_fl_497e8db8-6207-4dbd-9e2e-cfce07921bbd.png', 'width': 1456}, vector=None, shard_key=None),\n",
       "  ScoredPoint(id=1142185373884219543, version=1298, score=0.0, payload={'channel_id': '989268300473192561', 'content': '**a cute ghost holding a microphone close to the mouth and sing a song, studio ghibil** - Image #1 <@1137265485449273344>', 'height': 1024, 'id': '1142185374437871636', 'size': 1151940, 'split': 'train', 'timestamp': '2023-08-18T19:56:54.044000+00:00', 'url': 'https://cdn.discordapp.com/attachments/989268300473192561/1142185373884219543/blesiree_a_cute_ghost_holding_a_microphone_close_to_the_mouth_a_681167ee-70b8-4e37-9c03-80b376c59e08.png', 'width': 1024}, vector=None, shard_key=None),\n",
       "  ScoredPoint(id=1138859787027755178, version=1805, score=0.0, payload={'channel_id': '989268300473192561', 'content': '**A black haired witch in a cottage core scene next to a swamp.** - Image #4 <@372966959274262538>', 'height': 1024, 'id': '1138859787308781590', 'size': 1527114, 'split': 'train', 'timestamp': '2023-08-09T15:42:12.286000+00:00', 'url': 'https://cdn.discordapp.com/attachments/989268300473192561/1138859787027755178/dillonlittle61_A_black_haired_witch_in_a_cottage_core_scene_nex_e032a52c-ee24-4bd0-b078-e1e8359b56ee.png', 'width': 1024}, vector=None, shard_key=None),\n",
       "  ScoredPoint(id=1141565704894693448, version=1389, score=0.0, payload={'channel_id': '989268300473192561', 'content': '**evil witch with a Apple , fairytale** - Image #3 <@1067855375119949835>', 'height': 1024, 'id': '1141565705305723002', 'size': 1701958, 'split': 'train', 'timestamp': '2023-08-17T02:54:33.410000+00:00', 'url': 'https://cdn.discordapp.com/attachments/989268300473192561/1141565704894693448/Goldenkingtattoo_evil_witch_with_a_Apple__fairytale_092decfa-8514-4b22-924d-209c38417a97.png', 'width': 1024}, vector=None, shard_key=None),\n",
       "  ScoredPoint(id=1142186972966826095, version=1298, score=0.0, payload={'channel_id': '989268300473192561', 'content': '**a cute ghost holding a microphone close to the mouth and sing a song, studio ghibil** - Image #4 <@1137265485449273344>', 'height': 1024, 'id': '1142186973239451748', 'size': 1201994, 'split': 'train', 'timestamp': '2023-08-18T20:03:15.228000+00:00', 'url': 'https://cdn.discordapp.com/attachments/989268300473192561/1142186972966826095/blesiree_a_cute_ghost_holding_a_microphone_close_to_the_mouth_a_0f856d32-76a0-4afc-b559-8fcb09f26b04.png', 'width': 1024}, vector=None, shard_key=None),\n",
       "  ScoredPoint(id=1136120391887233074, version=2320, score=0.0, payload={'channel_id': '989268300473192561', 'content': '**a blonde artifcer holding an orb of light. There are safety glasses resting on his head and flames on the edge of his fingers. He is clearly in a workshop. --s 250** - Image #1 <@339996476145139722>', 'height': 1024, 'id': '1136120392277299200', 'size': 1649932, 'split': 'train', 'timestamp': '2023-08-02T02:16:49.615000+00:00', 'url': 'https://cdn.discordapp.com/attachments/989268300473192561/1136120391887233074/wilykkit_a_blonde_artifcer_holding_an_orb_of_light._There_are_s_c5dd7b7b-a0d7-45ac-b11f-a8ac231ed1e1.png', 'width': 1024}, vector=None, shard_key=None),\n",
       "  ScoredPoint(id=1142293951710240908, version=1276, score=0.0, payload={'channel_id': '989268300473192561', 'content': '**cute spooky ghost holding candle 2d** - Image #2 <@1141788145654976583>', 'height': 1024, 'id': '1142293951949324410', 'size': 919346, 'split': 'train', 'timestamp': '2023-08-19T03:08:20.940000+00:00', 'url': 'https://cdn.discordapp.com/attachments/989268300473192561/1142293951710240908/artguru05_cute_spooky_ghost_holding_candle_2d_d741d432-111e-43a1-888d-f7fb969b760c.png', 'width': 1024}, vector=None, shard_key=None),\n",
       "  ScoredPoint(id=1138031322024124537, version=1967, score=0.0, payload={'channel_id': '989268300473192561', 'content': \"**spa decorations with stones and candles on a wooden table, in the style of tranquil gardenscapes, dark pink and dark green, i can't believe how beautiful this is, arte povera --ar 2:3** - Image #4 <@1120262329339220059>\", 'height': 1344, 'id': '1138031322351276182', 'size': 1772998, 'split': 'train', 'timestamp': '2023-08-07T08:50:10.848000+00:00', 'url': 'https://cdn.discordapp.com/attachments/989268300473192561/1138031322024124537/katobon_spa_decorations_with_stones_and_candles_on_a_wooden_tab_ab61b2f3-dca5-4101-9291-5300a37a4f09.png', 'width': 896}, vector=None, shard_key=None),\n",
       "  ScoredPoint(id=1134430139514638427, version=2614, score=0.0, payload={'channel_id': '989268300473192561', 'content': '**Focus on green whiskey bottle on the table, background party shot from canon R6 camera, hyper realistic image** - Image #3 <@1071368242796441700>', 'height': 1024, 'id': '1134430139812425738', 'size': 1275278, 'split': 'train', 'timestamp': '2023-07-28T10:20:22.024000+00:00', 'url': 'https://cdn.discordapp.com/attachments/989268300473192561/1134430139514638427/surendra07_Focus_on_green_whiskey_bottle_on_the_table_backgroun_816e521d-fdd9-4b3c-85b3-fafec0bedd6d.png', 'width': 1024}, vector=None, shard_key=None)]]"
      ]
     },
     "execution_count": 84,
     "metadata": {},
     "output_type": "execute_result"
    }
   ],
   "source": [
    "client.discover_batch(collection_name='midjourney-CLIP-ViT-H-14-laion2B-s32B-b79K', requests=discover_queries)"
   ]
  },
  {
   "cell_type": "code",
   "execution_count": null,
   "metadata": {},
   "outputs": [],
   "source": []
  },
  {
   "cell_type": "code",
   "execution_count": 71,
   "metadata": {},
   "outputs": [],
   "source": [
    "discover_queries = [\n",
    "    models.DiscoverRequest(\n",
    "        target=1130272851606372404,\n",
    "        limit=10,\n",
    "    ),\n",
    "]"
   ]
  },
  {
   "cell_type": "code",
   "execution_count": 72,
   "metadata": {},
   "outputs": [
    {
     "data": {
      "text/plain": [
       "[DiscoverRequest(shard_key=None, target=1130272851606372404, context=None, filter=None, params=None, limit=10, offset=None, with_payload=None, with_vector=None, using=None, lookup_from=None)]"
      ]
     },
     "execution_count": 72,
     "metadata": {},
     "output_type": "execute_result"
    }
   ],
   "source": [
    "discover_queries"
   ]
  }
 ],
 "metadata": {
  "kernelspec": {
   "display_name": "Python 3",
   "language": "python",
   "name": "python3"
  },
  "language_info": {
   "codemirror_mode": {
    "name": "ipython",
    "version": 3
   },
   "file_extension": ".py",
   "mimetype": "text/x-python",
   "name": "python",
   "nbconvert_exporter": "python",
   "pygments_lexer": "ipython3",
   "version": "3.11.4"
  }
 },
 "nbformat": 4,
 "nbformat_minor": 2
}
