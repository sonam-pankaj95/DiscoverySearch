{
 "cells": [
  {
   "cell_type": "code",
   "execution_count": 1,
   "metadata": {},
   "outputs": [
    {
     "name": "stdout",
     "output_type": "stream",
     "text": [
      "Requirement already satisfied: qdrant-client in c:\\users\\sonam\\appdata\\local\\programs\\python\\python311\\lib\\site-packages (1.7.0)\n",
      "Requirement already satisfied: grpcio>=1.41.0 in c:\\users\\sonam\\appdata\\local\\programs\\python\\python311\\lib\\site-packages (from qdrant-client) (1.60.0)\n",
      "Requirement already satisfied: grpcio-tools>=1.41.0 in c:\\users\\sonam\\appdata\\local\\programs\\python\\python311\\lib\\site-packages (from qdrant-client) (1.60.0)\n",
      "Requirement already satisfied: httpx[http2]>=0.14.0 in c:\\users\\sonam\\appdata\\local\\programs\\python\\python311\\lib\\site-packages (from qdrant-client) (0.26.0)\n",
      "Requirement already satisfied: numpy>=1.21 in c:\\users\\sonam\\appdata\\local\\programs\\python\\python311\\lib\\site-packages (from qdrant-client) (1.26.2)\n",
      "Requirement already satisfied: portalocker<3.0.0,>=2.7.0 in c:\\users\\sonam\\appdata\\local\\programs\\python\\python311\\lib\\site-packages (from qdrant-client) (2.8.2)\n",
      "Requirement already satisfied: pydantic>=1.10.8 in c:\\users\\sonam\\appdata\\local\\programs\\python\\python311\\lib\\site-packages (from qdrant-client) (2.5.2)\n",
      "Requirement already satisfied: urllib3<2.0.0,>=1.26.14 in c:\\users\\sonam\\appdata\\local\\programs\\python\\python311\\lib\\site-packages (from qdrant-client) (1.26.18)\n",
      "Requirement already satisfied: protobuf<5.0dev,>=4.21.6 in c:\\users\\sonam\\appdata\\local\\programs\\python\\python311\\lib\\site-packages (from grpcio-tools>=1.41.0->qdrant-client) (4.25.1)\n",
      "Requirement already satisfied: setuptools in c:\\users\\sonam\\appdata\\local\\programs\\python\\python311\\lib\\site-packages (from grpcio-tools>=1.41.0->qdrant-client) (65.5.0)\n",
      "Requirement already satisfied: anyio in c:\\users\\sonam\\appdata\\local\\programs\\python\\python311\\lib\\site-packages (from httpx[http2]>=0.14.0->qdrant-client) (4.2.0)\n",
      "Requirement already satisfied: certifi in c:\\users\\sonam\\appdata\\local\\programs\\python\\python311\\lib\\site-packages (from httpx[http2]>=0.14.0->qdrant-client) (2023.11.17)\n",
      "Requirement already satisfied: httpcore==1.* in c:\\users\\sonam\\appdata\\local\\programs\\python\\python311\\lib\\site-packages (from httpx[http2]>=0.14.0->qdrant-client) (1.0.2)\n",
      "Requirement already satisfied: idna in c:\\users\\sonam\\appdata\\local\\programs\\python\\python311\\lib\\site-packages (from httpx[http2]>=0.14.0->qdrant-client) (3.6)\n",
      "Requirement already satisfied: sniffio in c:\\users\\sonam\\appdata\\local\\programs\\python\\python311\\lib\\site-packages (from httpx[http2]>=0.14.0->qdrant-client) (1.3.0)\n",
      "Requirement already satisfied: h2<5,>=3 in c:\\users\\sonam\\appdata\\local\\programs\\python\\python311\\lib\\site-packages (from httpx[http2]>=0.14.0->qdrant-client) (4.1.0)\n",
      "Requirement already satisfied: h11<0.15,>=0.13 in c:\\users\\sonam\\appdata\\local\\programs\\python\\python311\\lib\\site-packages (from httpcore==1.*->httpx[http2]>=0.14.0->qdrant-client) (0.14.0)\n",
      "Requirement already satisfied: pywin32>=226 in c:\\users\\sonam\\appdata\\roaming\\python\\python311\\site-packages (from portalocker<3.0.0,>=2.7.0->qdrant-client) (306)\n",
      "Requirement already satisfied: annotated-types>=0.4.0 in c:\\users\\sonam\\appdata\\local\\programs\\python\\python311\\lib\\site-packages (from pydantic>=1.10.8->qdrant-client) (0.6.0)\n",
      "Requirement already satisfied: pydantic-core==2.14.5 in c:\\users\\sonam\\appdata\\local\\programs\\python\\python311\\lib\\site-packages (from pydantic>=1.10.8->qdrant-client) (2.14.5)\n",
      "Requirement already satisfied: typing-extensions>=4.6.1 in c:\\users\\sonam\\appdata\\local\\programs\\python\\python311\\lib\\site-packages (from pydantic>=1.10.8->qdrant-client) (4.9.0)\n",
      "Requirement already satisfied: hyperframe<7,>=6.0 in c:\\users\\sonam\\appdata\\local\\programs\\python\\python311\\lib\\site-packages (from h2<5,>=3->httpx[http2]>=0.14.0->qdrant-client) (6.0.1)\n",
      "Requirement already satisfied: hpack<5,>=4.0 in c:\\users\\sonam\\appdata\\local\\programs\\python\\python311\\lib\\site-packages (from h2<5,>=3->httpx[http2]>=0.14.0->qdrant-client) (4.0.0)\n"
     ]
    },
    {
     "name": "stderr",
     "output_type": "stream",
     "text": [
      "\n",
      "[notice] A new release of pip is available: 23.1.2 -> 23.3.2\n",
      "[notice] To update, run: python.exe -m pip install --upgrade pip\n"
     ]
    }
   ],
   "source": [
    "!pip install qdrant-client"
   ]
  },
  {
   "cell_type": "code",
   "execution_count": 2,
   "metadata": {},
   "outputs": [],
   "source": [
    "from qdrant_client import QdrantClient\n",
    "from qdrant_client.http import models\n",
    "\n",
    "client = QdrantClient(\"https://abbde7de-051d-46de-92ea-39217bb63cfa.eastus-0.azure.cloud.qdrant.io:6333\", api_key=\"F8B9N1fSbpJfZFFg4UbnMC5_vXcN3KgYRJWDV3cm3h6VNaqtdEyeJA\")\n",
    "\n",
    "record = client.scroll(\n",
    "    collection_name='midjourney-CLIP-ViT-H-14-laion2B-s32B-b79K', \n",
    "    limit=5000)\n",
    "#client.search(collection_name='midjourney-CLIP-ViT-H-14-laion2B-s32B-b79K', )"
   ]
  },
  {
   "cell_type": "code",
   "execution_count": 3,
   "metadata": {},
   "outputs": [
    {
     "name": "stderr",
     "output_type": "stream",
     "text": [
      "c:\\Users\\sonam\\AppData\\Local\\Programs\\Python\\Python311\\Lib\\site-packages\\tqdm\\auto.py:21: TqdmWarning: IProgress not found. Please update jupyter and ipywidgets. See https://ipywidgets.readthedocs.io/en/stable/user_install.html\n",
      "  from .autonotebook import tqdm as notebook_tqdm\n"
     ]
    }
   ],
   "source": [
    "import os\n",
    "import json\n",
    "import pandas as pd\n",
    "from datasets import load_dataset\n",
    "from qdrant_client import QdrantClient"
   ]
  },
  {
   "cell_type": "code",
   "execution_count": 14,
   "metadata": {},
   "outputs": [
    {
     "data": {
      "text/plain": [
       "([Record(id=1108196920838606898, payload={'channel_id': '989268300473192561', 'content': '**beautiful indian bride with gorgeous makeup --c 40 --s 400 --v 5.1** - Image #4 <@1094997272468668439>', 'height': 1024, 'id': '1108196921128005675', 'size': 1311673, 'split': 'train', 'timestamp': '2023-05-17T00:58:55.300000+00:00', 'url': 'https://cdn.discordapp.com/attachments/989268300473192561/1108196920838606898/00siris_beautiful_indian_bride_with_gorgeous_makeup_c2fdb527-a11a-4d68-94d0-f77521326c40.png', 'width': 1024}, vector=None, shard_key=None),\n",
       "  Record(id=1108198405114695711, payload={'channel_id': '989268300473192561', 'content': '**close up of beautiful indian bride covering left half of her face with one of her hands that has gorgeous henna --c 40 --s 400 --v 5.1** - Image #1 <@1094997272468668439>', 'height': 1024, 'id': '1108198405370564710', 'size': 1480016, 'split': 'train', 'timestamp': '2023-05-17T01:04:49.171000+00:00', 'url': 'https://cdn.discordapp.com/attachments/989268300473192561/1108198405114695711/00siris_close_up_of_beautiful_indian_bride_covering_left_half_o_46ce28c1-f9ef-4242-b0b5-cb899cfa0f2a.png', 'width': 1024}, vector=None, shard_key=None),\n",
       "  Record(id=1108199018204512256, payload={'channel_id': '989268300473192561', 'content': '**close up of beautiful indian bride covering the left side of her face with 1 hand that has gorgeous henna --c 40 --s 400 --v 5.1** - Image #1 <@1094997272468668439>', 'height': 1024, 'id': '1108199018623926354', 'size': 1432012, 'split': 'train', 'timestamp': '2023-05-17T01:07:15.382000+00:00', 'url': 'https://cdn.discordapp.com/attachments/989268300473192561/1108199018204512256/00siris_close_up_of_beautiful_indian_bride_covering_the_left_si_ddecf9ea-3bea-4916-80cf-1be047efa2c7.png', 'width': 1024}, vector=None, shard_key=None),\n",
       "  Record(id=1108199037343113236, payload={'channel_id': '989268300473192561', 'content': '**close up of beautiful indian bride covering the left side of her face with 1 hand that has gorgeous henna --c 40 --s 400 --v 5.1** - Image #4 <@1094997272468668439>', 'height': 1024, 'id': '1108199037624123422', 'size': 1177538, 'split': 'train', 'timestamp': '2023-05-17T01:07:19.912000+00:00', 'url': 'https://cdn.discordapp.com/attachments/989268300473192561/1108199037343113236/00siris_close_up_of_beautiful_indian_bride_covering_the_left_si_d88997c7-7fff-4255-a39e-a373f2e2bf3e.png', 'width': 1024}, vector=None, shard_key=None),\n",
       "  Record(id=1108200330333798471, payload={'channel_id': '989268300473192561', 'content': '**beautiful indian bride in a sari--c 40 --s 400 --v 5.1** - Image #4 <@1094997272468668439>', 'height': 1024, 'id': '1108200330627387396', 'size': 1304390, 'split': 'train', 'timestamp': '2023-05-17T01:12:28.188000+00:00', 'url': 'https://cdn.discordapp.com/attachments/989268300473192561/1108200330333798471/00siris_beautiful_indian_bride_in_a_sari--c_40_f83f3d87-2c3d-4177-beaa-f5f92183f3d8.png', 'width': 1024}, vector=None, shard_key=None),\n",
       "  Record(id=1108200341998157875, payload={'channel_id': '989268300473192561', 'content': '**beautiful indian bride in a sari--c 40 --s 400 --v 5.1** - Image #1 <@1094997272468668439>', 'height': 1024, 'id': '1108200342501466122', 'size': 1207131, 'split': 'train', 'timestamp': '2023-05-17T01:12:31.019000+00:00', 'url': 'https://cdn.discordapp.com/attachments/989268300473192561/1108200341998157875/00siris_beautiful_indian_bride_in_a_sari--c_40_673b4d2a-bf8e-40e1-ad0a-10c3f798c482.png', 'width': 1024}, vector=None, shard_key=None),\n",
       "  Record(id=1108200368732635226, payload={'channel_id': '989268300473192561', 'content': '**beautiful indian bride in a sari--c 40 --s 400 --v 5.1** - Image #2 <@1094997272468668439>', 'height': 1024, 'id': '1108200370037067796', 'size': 1223476, 'split': 'train', 'timestamp': '2023-05-17T01:12:37.584000+00:00', 'url': 'https://cdn.discordapp.com/attachments/989268300473192561/1108200368732635226/00siris_beautiful_indian_bride_in_a_sari--c_40_5b5fbd2e-f1e9-46d6-bc20-108fbac85531.png', 'width': 1024}, vector=None, shard_key=None),\n",
       "  Record(id=1108201098507989082, payload={'channel_id': '989268300473192561', 'content': '**beautiful indian bride with gorgeous hazel eyes --c 40 --s 400 --v 5.1** - Image #1 <@1094997272468668439>', 'height': 1024, 'id': '1108201098830946364', 'size': 1451313, 'split': 'train', 'timestamp': '2023-05-17T01:15:31.342000+00:00', 'url': 'https://cdn.discordapp.com/attachments/989268300473192561/1108201098507989082/00siris_beautiful_indian_bride_with_gorgeous_hazel_eyes_ed8c8c93-4dde-4bba-b7d1-f3875fae5451.png', 'width': 1024}, vector=None, shard_key=None),\n",
       "  Record(id=1108201446236749824, payload={'channel_id': '989268300473192561', 'content': '**beautiful indian bride with gorgeous hazel eyes --c 40 --s 400 --v 5.1** - Image #3 <@1094997272468668439>', 'height': 1024, 'id': '1108201446723309610', 'size': 1203126, 'split': 'train', 'timestamp': '2023-05-17T01:16:54.286000+00:00', 'url': 'https://cdn.discordapp.com/attachments/989268300473192561/1108201446236749824/00siris_beautiful_indian_bride_with_gorgeous_hazel_eyes_aa1eb093-013f-482d-95f4-a4761e9320ad.png', 'width': 1024}, vector=None, shard_key=None),\n",
       "  Record(id=1110040012537483386, payload={'channel_id': '989268300473192561', 'content': '**stunningly beautiful indian bride fair lots of jewellery photorealistic** - Image #3 <@1110026207686295573>', 'height': 1024, 'id': '1110040012805902476', 'size': 1350512, 'split': 'train', 'timestamp': '2023-05-22T03:02:42.599000+00:00', 'url': 'https://cdn.discordapp.com/attachments/989268300473192561/1110040012537483386/vishal.ghotge_stunningly_beautiful_indian_bride_fair_lots_of_je_cd7306a9-dc0c-4eff-bf5c-871bed712005.png', 'width': 1024}, vector=None, shard_key=None)],\n",
       " 1110223545381945414)"
      ]
     },
     "execution_count": 14,
     "metadata": {},
     "output_type": "execute_result"
    }
   ],
   "source": [
    "client.scroll(\n",
    "    collection_name='midjourney-CLIP-ViT-H-14-laion2B-s32B-b79K',\n",
    "    scroll_filter=models.Filter(\n",
    "        must=[\n",
    "            models.FieldCondition(\n",
    "                key=\"content\",\n",
    "                match=models.MatchText(text=\"indian bride\"),\n",
    "            ),\n",
    "        ],\n",
    "    ),\n",
    ")"
   ]
  },
  {
   "cell_type": "code",
   "execution_count": 15,
   "metadata": {},
   "outputs": [
    {
     "data": {
      "text/plain": [
       "([Record(id=1098791542585569300, payload={'channel_id': '997260968411279410', 'content': '**A classic A-line white wedding dress with a mud cloth patterned silk sash tied around the waist. The mud cloth print is bold and eye-catching, while the smooth silk sash adds a touch of luxury and sophistication to the simple yet elegant gown. --q 2 --v 5** - Image #2 <@1087790907903975504>', 'height': 1024, 'id': '1098791542900134018', 'size': 1509444, 'split': 'train', 'timestamp': '2023-04-21T02:05:18.387000+00:00', 'url': 'https://cdn.discordapp.com/attachments/997260968411279410/1098791542585569300/betsoliab_A_classic_A-line_white_wedding_dress_with_a_mud_cloth_8481ea86-fbb6-42e8-b1b6-cee4624db259.png', 'width': 1024}, vector=None, shard_key=None),\n",
       "  Record(id=1098791549535539370, payload={'channel_id': '997260968411279410', 'content': '**A classic A-line white wedding dress with a mud cloth patterned silk sash tied around the waist. The mud cloth print is bold and eye-catching, while the smooth silk sash adds a touch of luxury and sophistication to the simple yet elegant gown. --q 2 --v 5** - Image #1 <@1087790907903975504>', 'height': 1024, 'id': '1098791549766213692', 'size': 1192305, 'split': 'train', 'timestamp': '2023-04-21T02:05:20.024000+00:00', 'url': 'https://cdn.discordapp.com/attachments/997260968411279410/1098791549535539370/betsoliab_A_classic_A-line_white_wedding_dress_with_a_mud_cloth_9eab7ac5-e2a0-4e02-a03b-7dd41692e76a.png', 'width': 1024}, vector=None, shard_key=None),\n",
       "  Record(id=1099184629627502694, payload={'channel_id': '989268300473192561', 'content': '**A bride holding a large bunch of white balloons going up in the sky in her billowing white wedding dress Maui 4k, --ar 9:16 --s 750 --v 5 --q 2** - Image #4 <@1063302410480664707>', 'height': 1456, 'id': '1099184629946261534', 'size': 1384828, 'split': 'train', 'timestamp': '2023-04-22T04:07:17.642000+00:00', 'url': 'https://cdn.discordapp.com/attachments/989268300473192561/1099184629627502694/heyujoshi_A_bride_holding_a_large_bunch_of_white_balloons_going_eb241ca5-ef98-49a4-a1e8-f9cabeae54bd.png', 'width': 816}, vector=None, shard_key=None),\n",
       "  Record(id=1099186519232745533, payload={'channel_id': '989268300473192561', 'content': '**A beautiful bride wearing a billowing white wedding dress and veil flies in the sky holding several large white balloons she is joyous 4k, --ar 9:16 --s 750 --v 5 --q 2** - Image #2 <@1063302410480664707>', 'height': 1456, 'id': '1099186519060795435', 'size': 1132425, 'split': 'train', 'timestamp': '2023-04-22T04:14:48.042000+00:00', 'url': 'https://cdn.discordapp.com/attachments/989268300473192561/1099186519232745533/heyujoshi_A_beautiful_bride_wearing_a_billowing_white_wedding_d_f877ae96-5e04-45a7-9626-c6757af57ab6.png', 'width': 816}, vector=None, shard_key=None),\n",
       "  Record(id=1101048161566466119, payload={'channel_id': '997260968411279410', 'content': '**floor jansen in a white wedding dress smiles, ultra realistic, 8k, --v 5** - Image #2 <@774366291578060810>', 'height': 1024, 'id': '1101048161771982889', 'size': 1417752, 'split': 'train', 'timestamp': '2023-04-27T07:32:18.252000+00:00', 'url': 'https://cdn.discordapp.com/attachments/997260968411279410/1101048161566466119/DocteurHatred_floor_jansen_in_a_white_wedding_dress_smiles_ultr_1f683ac3-7c21-432a-9b4f-544f496dd33f.png', 'width': 1024}, vector=None, shard_key=None),\n",
       "  Record(id=1101048167333646377, payload={'channel_id': '997260968411279410', 'content': '**floor jansen in a white wedding dress smiles, ultra realistic, 8k, --v 5** - Image #3 <@774366291578060810>', 'height': 1024, 'id': '1101048167602073640', 'size': 1426336, 'split': 'train', 'timestamp': '2023-04-27T07:32:19.642000+00:00', 'url': 'https://cdn.discordapp.com/attachments/997260968411279410/1101048167333646377/DocteurHatred_floor_jansen_in_a_white_wedding_dress_smiles_ultr_501d0b25-06b9-4635-ad4d-34b01be4bdf3.png', 'width': 1024}, vector=None, shard_key=None),\n",
       "  Record(id=1101048407742758933, payload={'channel_id': '997260968411279410', 'content': '**floor jansen in a white wedding dress smiles, ultra realistic, 8k, --v 5** - Image #4 <@774366291578060810>', 'height': 1024, 'id': '1101048408011178045', 'size': 1299754, 'split': 'train', 'timestamp': '2023-04-27T07:33:16.960000+00:00', 'url': 'https://cdn.discordapp.com/attachments/997260968411279410/1101048407742758933/DocteurHatred_floor_jansen_in_a_white_wedding_dress_smiles_ultr_e4671a4f-c683-4d1a-b135-abce3d380f36.png', 'width': 1024}, vector=None, shard_key=None),\n",
       "  Record(id=1101170081070862467, payload={'channel_id': '989268300473192561', 'content': '**<https://s.mj.run/OZnyitukwdE> <https://s.mj.run/PyfVc-EirfA> a black woman in a white wedding dress, in a little alley, on the street, in the style of flawless line work, made of crystals, bronze and beige, blink-and-you-miss-it detail, intricate cut-outs, bold color palate, playful elegance, very feminine curves --ar 7:11 --v 5** - Image #3 <@662970336865812486>', 'height': 1360, 'id': '1101170081360261191', 'size': 1538723, 'split': 'train', 'timestamp': '2023-04-27T15:36:46.147000+00:00', 'url': 'https://cdn.discordapp.com/attachments/989268300473192561/1101170081070862467/themanthelegend85_a_black_woman_in_a_white_wedding_dress_in_a_l_d0f2c35a-da31-4e80-b2b3-81b5d5e4205f.png', 'width': 864}, vector=None, shard_key=None),\n",
       "  Record(id=1101170136985116682, payload={'channel_id': '989268300473192561', 'content': '**<https://s.mj.run/OZnyitukwdE> <https://s.mj.run/PyfVc-EirfA> a black woman in a white wedding dress, in a little alley, on the street, in the style of flawless line work, made of crystals, bronze and beige, blink-and-you-miss-it detail, intricate cut-outs, bold color palate, playful elegance, very feminine curves --ar 7:11 --v 5** - Image #4 <@662970336865812486>', 'height': 1360, 'id': '1101170137505206423', 'size': 1404394, 'split': 'train', 'timestamp': '2023-04-27T15:36:59.533000+00:00', 'url': 'https://cdn.discordapp.com/attachments/989268300473192561/1101170136985116682/themanthelegend85_a_black_woman_in_a_white_wedding_dress_in_a_l_d975f4c3-e131-4559-b788-8ca81e049bfc.png', 'width': 864}, vector=None, shard_key=None),\n",
       "  Record(id=1101170154366312508, payload={'channel_id': '989268300473192561', 'content': '**<https://s.mj.run/OZnyitukwdE> <https://s.mj.run/PyfVc-EirfA> a black woman in a white wedding dress, in a little alley, on the street, in the style of flawless line work, made of crystals, bronze and beige, blink-and-you-miss-it detail, intricate cut-outs, bold color palate, playful elegance, very feminine curves --ar 7:11 --v 5** - Image #2 <@662970336865812486>', 'height': 1360, 'id': '1101170154659905607', 'size': 1420561, 'split': 'train', 'timestamp': '2023-04-27T15:37:03.623000+00:00', 'url': 'https://cdn.discordapp.com/attachments/989268300473192561/1101170154366312508/themanthelegend85_a_black_woman_in_a_white_wedding_dress_in_a_l_252dd2f9-8a95-4e0c-90bc-6e95cd1cb106.png', 'width': 864}, vector=None, shard_key=None)],\n",
       " 1101170158199910480)"
      ]
     },
     "execution_count": 15,
     "metadata": {},
     "output_type": "execute_result"
    }
   ],
   "source": [
    "client.scroll(\n",
    "    collection_name='midjourney-CLIP-ViT-H-14-laion2B-s32B-b79K',\n",
    "    scroll_filter=models.Filter(\n",
    "        must=[\n",
    "            models.FieldCondition(\n",
    "                key=\"content\",\n",
    "                match=models.MatchText(text=\"white wedding dress\"),\n",
    "            ),\n",
    "        ],\n",
    "    ),\n",
    ")"
   ]
  },
  {
   "cell_type": "code",
   "execution_count": 4,
   "metadata": {},
   "outputs": [
    {
     "name": "stdout",
     "output_type": "stream",
     "text": [
      "Requirement already satisfied: open_clip_torch in c:\\users\\sonam\\appdata\\local\\programs\\python\\python311\\lib\\site-packages (2.23.0)\n",
      "Requirement already satisfied: torch>=1.9.0 in c:\\users\\sonam\\appdata\\local\\programs\\python\\python311\\lib\\site-packages (from open_clip_torch) (2.1.2)\n",
      "Requirement already satisfied: torchvision in c:\\users\\sonam\\appdata\\local\\programs\\python\\python311\\lib\\site-packages (from open_clip_torch) (0.16.2)\n",
      "Requirement already satisfied: regex in c:\\users\\sonam\\appdata\\local\\programs\\python\\python311\\lib\\site-packages (from open_clip_torch) (2023.10.3)\n",
      "Requirement already satisfied: ftfy in c:\\users\\sonam\\appdata\\local\\programs\\python\\python311\\lib\\site-packages (from open_clip_torch) (6.1.3)\n",
      "Requirement already satisfied: tqdm in c:\\users\\sonam\\appdata\\local\\programs\\python\\python311\\lib\\site-packages (from open_clip_torch) (4.66.1)\n",
      "Requirement already satisfied: huggingface-hub in c:\\users\\sonam\\appdata\\local\\programs\\python\\python311\\lib\\site-packages (from open_clip_torch) (0.20.1)\n",
      "Requirement already satisfied: sentencepiece in c:\\users\\sonam\\appdata\\local\\programs\\python\\python311\\lib\\site-packages (from open_clip_torch) (0.1.99)\n",
      "Requirement already satisfied: protobuf in c:\\users\\sonam\\appdata\\local\\programs\\python\\python311\\lib\\site-packages (from open_clip_torch) (4.25.1)\n",
      "Requirement already satisfied: timm in c:\\users\\sonam\\appdata\\local\\programs\\python\\python311\\lib\\site-packages (from open_clip_torch) (0.9.12)\n",
      "Requirement already satisfied: filelock in c:\\users\\sonam\\appdata\\local\\programs\\python\\python311\\lib\\site-packages (from torch>=1.9.0->open_clip_torch) (3.13.1)\n",
      "Requirement already satisfied: typing-extensions in c:\\users\\sonam\\appdata\\local\\programs\\python\\python311\\lib\\site-packages (from torch>=1.9.0->open_clip_torch) (4.9.0)\n",
      "Requirement already satisfied: sympy in c:\\users\\sonam\\appdata\\local\\programs\\python\\python311\\lib\\site-packages (from torch>=1.9.0->open_clip_torch) (1.12)\n",
      "Requirement already satisfied: networkx in c:\\users\\sonam\\appdata\\local\\programs\\python\\python311\\lib\\site-packages (from torch>=1.9.0->open_clip_torch) (3.2.1)\n",
      "Requirement already satisfied: jinja2 in c:\\users\\sonam\\appdata\\local\\programs\\python\\python311\\lib\\site-packages (from torch>=1.9.0->open_clip_torch) (3.1.2)\n",
      "Requirement already satisfied: fsspec in c:\\users\\sonam\\appdata\\local\\programs\\python\\python311\\lib\\site-packages (from torch>=1.9.0->open_clip_torch) (2023.10.0)\n",
      "Requirement already satisfied: wcwidth<0.3.0,>=0.2.12 in c:\\users\\sonam\\appdata\\local\\programs\\python\\python311\\lib\\site-packages (from ftfy->open_clip_torch) (0.2.12)\n",
      "Requirement already satisfied: requests in c:\\users\\sonam\\appdata\\local\\programs\\python\\python311\\lib\\site-packages (from huggingface-hub->open_clip_torch) (2.31.0)\n",
      "Requirement already satisfied: pyyaml>=5.1 in c:\\users\\sonam\\appdata\\local\\programs\\python\\python311\\lib\\site-packages (from huggingface-hub->open_clip_torch) (6.0.1)\n",
      "Requirement already satisfied: packaging>=20.9 in c:\\users\\sonam\\appdata\\roaming\\python\\python311\\site-packages (from huggingface-hub->open_clip_torch) (23.1)\n",
      "Requirement already satisfied: colorama in c:\\users\\sonam\\appdata\\roaming\\python\\python311\\site-packages (from tqdm->open_clip_torch) (0.4.6)\n",
      "Requirement already satisfied: safetensors in c:\\users\\sonam\\appdata\\local\\programs\\python\\python311\\lib\\site-packages (from timm->open_clip_torch) (0.4.1)\n",
      "Requirement already satisfied: numpy in c:\\users\\sonam\\appdata\\local\\programs\\python\\python311\\lib\\site-packages (from torchvision->open_clip_torch) (1.26.2)\n",
      "Requirement already satisfied: pillow!=8.3.*,>=5.3.0 in c:\\users\\sonam\\appdata\\local\\programs\\python\\python311\\lib\\site-packages (from torchvision->open_clip_torch) (10.1.0)\n",
      "Requirement already satisfied: MarkupSafe>=2.0 in c:\\users\\sonam\\appdata\\local\\programs\\python\\python311\\lib\\site-packages (from jinja2->torch>=1.9.0->open_clip_torch) (2.1.3)\n",
      "Requirement already satisfied: charset-normalizer<4,>=2 in c:\\users\\sonam\\appdata\\local\\programs\\python\\python311\\lib\\site-packages (from requests->huggingface-hub->open_clip_torch) (3.3.2)\n",
      "Requirement already satisfied: idna<4,>=2.5 in c:\\users\\sonam\\appdata\\local\\programs\\python\\python311\\lib\\site-packages (from requests->huggingface-hub->open_clip_torch) (3.6)\n",
      "Requirement already satisfied: urllib3<3,>=1.21.1 in c:\\users\\sonam\\appdata\\local\\programs\\python\\python311\\lib\\site-packages (from requests->huggingface-hub->open_clip_torch) (1.26.18)\n",
      "Requirement already satisfied: certifi>=2017.4.17 in c:\\users\\sonam\\appdata\\local\\programs\\python\\python311\\lib\\site-packages (from requests->huggingface-hub->open_clip_torch) (2023.11.17)\n",
      "Requirement already satisfied: mpmath>=0.19 in c:\\users\\sonam\\appdata\\local\\programs\\python\\python311\\lib\\site-packages (from sympy->torch>=1.9.0->open_clip_torch) (1.3.0)\n"
     ]
    },
    {
     "name": "stderr",
     "output_type": "stream",
     "text": [
      "\n",
      "[notice] A new release of pip is available: 23.1.2 -> 23.3.2\n",
      "[notice] To update, run: python.exe -m pip install --upgrade pip\n"
     ]
    }
   ],
   "source": [
    "!pip install open_clip_torch\n"
   ]
  },
  {
   "cell_type": "code",
   "execution_count": 5,
   "metadata": {},
   "outputs": [
    {
     "name": "stdout",
     "output_type": "stream",
     "text": [
      "Requirement already satisfied: torch in c:\\users\\sonam\\appdata\\local\\programs\\python\\python311\\lib\\site-packages (2.1.2)\n",
      "Requirement already satisfied: filelock in c:\\users\\sonam\\appdata\\local\\programs\\python\\python311\\lib\\site-packages (from torch) (3.13.1)\n",
      "Requirement already satisfied: typing-extensions in c:\\users\\sonam\\appdata\\local\\programs\\python\\python311\\lib\\site-packages (from torch) (4.9.0)\n",
      "Requirement already satisfied: sympy in c:\\users\\sonam\\appdata\\local\\programs\\python\\python311\\lib\\site-packages (from torch) (1.12)\n",
      "Requirement already satisfied: networkx in c:\\users\\sonam\\appdata\\local\\programs\\python\\python311\\lib\\site-packages (from torch) (3.2.1)\n",
      "Requirement already satisfied: jinja2 in c:\\users\\sonam\\appdata\\local\\programs\\python\\python311\\lib\\site-packages (from torch) (3.1.2)\n",
      "Requirement already satisfied: fsspec in c:\\users\\sonam\\appdata\\local\\programs\\python\\python311\\lib\\site-packages (from torch) (2023.10.0)\n",
      "Requirement already satisfied: MarkupSafe>=2.0 in c:\\users\\sonam\\appdata\\local\\programs\\python\\python311\\lib\\site-packages (from jinja2->torch) (2.1.3)\n",
      "Requirement already satisfied: mpmath>=0.19 in c:\\users\\sonam\\appdata\\local\\programs\\python\\python311\\lib\\site-packages (from sympy->torch) (1.3.0)\n"
     ]
    },
    {
     "name": "stderr",
     "output_type": "stream",
     "text": [
      "\n",
      "[notice] A new release of pip is available: 23.1.2 -> 23.3.2\n",
      "[notice] To update, run: python.exe -m pip install --upgrade pip\n"
     ]
    }
   ],
   "source": [
    "!pip install torch"
   ]
  },
  {
   "cell_type": "code",
   "execution_count": 6,
   "metadata": {},
   "outputs": [],
   "source": [
    "import open_clip\n",
    "import torch"
   ]
  },
  {
   "cell_type": "code",
   "execution_count": 36,
   "metadata": {},
   "outputs": [],
   "source": [
    "model, _, preprocess = open_clip.create_model_and_transforms(\"hf-hub:laion/CLIP-ViT-H-14-laion2B-s32B-b79K\")\n",
    "tokenizer = open_clip.get_tokenizer(\"hf-hub:laion/CLIP-ViT-H-14-laion2B-s32B-b79K\")\n",
    "\n",
    "# Encode the batch of texts\n",
    "tokenized_texts = tokenizer(\"Indian wedding dress\")\n",
    "text_embeddings = model.encode_text(tokenized_texts).tolist()\n",
    "\n",
    "# Encode the batch of images\n",
    "# preprocessed_images = torch.stack(\n",
    "#     [preprocess(image) for image in images]\n",
    "# )\n",
    "# image_embeddings = model.encode_image(preprocessed_images).tolist()"
   ]
  },
  {
   "cell_type": "code",
   "execution_count": 37,
   "metadata": {},
   "outputs": [],
   "source": [
    "query_vector=text_embeddings[0]"
   ]
  },
  {
   "cell_type": "code",
   "execution_count": 38,
   "metadata": {},
   "outputs": [
    {
     "data": {
      "text/plain": [
       "[ScoredPoint(id=1119896408917557258, version=10491, score=0.3190639, payload={'channel_id': '997260968411279410', 'content': '**A 27 year old Indian girl, with height of 5 feet 4 inches and weight of 70 kg, STanding in a wedding in Indian traditional dress. Photorealistic picture.** - Image #3 <@1117357614687326278>', 'height': 1024, 'id': '1119896408879796307', 'size': 1215419, 'split': 'train', 'timestamp': '2023-06-18T07:48:30.546000+00:00', 'url': 'https://cdn.discordapp.com/attachments/997260968411279410/1119896408917557258/anasss_A_27_year_old_Indian_girl_with_height_of_5_feet_4_inches_81f51a25-7e37-45cb-a94b-9c5a2ba9c91a.png', 'width': 1024}, vector=None, shard_key=None),\n",
       " ScoredPoint(id=1131127377594953768, version=3106, score=0.318182, payload={'channel_id': '989268300473192561', 'content': '**A full body standing hyper realistic looking Amba, the mythological princess ready to get married in her palace, wearing red Indian wedding clothes, looking like a goddess, very pretty heaven-like beauty, cinematic --v 5.2** - Image #1 <@1090201395971510353>', 'height': 1024, 'id': '1131127377884356678', 'size': 1589401, 'split': 'train', 'timestamp': '2023-07-19T07:36:22.218000+00:00', 'url': 'https://cdn.discordapp.com/attachments/989268300473192561/1131127377594953768/shrinkhala._A_full_body_standing_hyper_realistic_looking_Amba_t_cc67c8a5-bb6b-412b-944d-b525da096a50.png', 'width': 1024}, vector=None, shard_key=None),\n",
       " ScoredPoint(id=1131480153973858364, version=9776, score=0.31788707, payload={'channel_id': '997260968411279410', 'content': '**a pretty lady is wearing traditional thai, in the style of light silver and light gray, luxurious textures, confessional, precise detailing, photo taken with provia, ready-made, magnus enckell --ar 83:125** - Image #1 <@910740517455810580>', 'height': 1344, 'id': '1131480154301005874', 'size': 1845853, 'split': 'train', 'timestamp': '2023-07-20T06:58:10.670000+00:00', 'url': 'https://cdn.discordapp.com/attachments/997260968411279410/1131480153973858364/kiatipol_a_pretty_lady_is_wearing_traditional_thai_in_the_style_2a2945c4-70dd-4b91-a7df-578a8295b36a.png', 'width': 896}, vector=None, shard_key=None),\n",
       " ScoredPoint(id=1117902423437094972, version=19256, score=0.3175384, payload={'channel_id': '989274728155992124', 'content': '**dress India couple with ancient traditional, Cinematic, --ar 16:9 --v 5.1** - Image #3 <@1091144504611975248>', 'height': 816, 'id': '1117902423755866202', 'size': 1755503, 'split': 'train', 'timestamp': '2023-06-12T19:45:07.446000+00:00', 'url': 'https://cdn.discordapp.com/attachments/989274728155992124/1117902423437094972/bassem_dress_India_couple_with_ancient_traditional_Cinematic_2e50bf13-5ac0-4c0f-b829-74b503da390d.png', 'width': 1456}, vector=None, shard_key=None),\n",
       " ScoredPoint(id=1106398634997727272, version=11704, score=0.31692415, payload={'channel_id': '997260968411279410', 'content': '**the drawing of an african bridal, in the style of gritty hollywood glamour, made of crystals, hurufiyya, ivory, elongated, 32k uhd, traditional costumes --ar 9:16 --q 2 --v 5** - Image #2 <@1087790907903975504>', 'height': 1456, 'id': '1106398635387801761', 'size': 1376319, 'split': 'train', 'timestamp': '2023-05-12T01:53:10.569000+00:00', 'url': 'https://cdn.discordapp.com/attachments/997260968411279410/1106398634997727272/betsoliab_the_drawing_of_an_african_bridal_in_the_style_of_grit_e3f9e327-148d-4147-983e-988e9f8bb883.png', 'width': 816}, vector=None, shard_key=None),\n",
       " ScoredPoint(id=1128914456651501598, version=15737, score=0.31672496, payload={'channel_id': '989274728155992124', 'content': '**east asian bride rich designer clothes up turquoise wedding photograph by James Welling --ar 4:5 --c 20 --s 125 --w 3 --v 5.2** - Image #3 <@710807549267411005>', 'height': 1200, 'id': '1128914457217736836', 'size': 2106449, 'split': 'train', 'timestamp': '2023-07-13T05:03:00.817000+00:00', 'url': 'https://cdn.discordapp.com/attachments/989274728155992124/1128914456651501598/ivashv_east_asian_bride_rich_designer_clothes_up_turquoise_wedd_7dfdea0d-6ca4-4508-8a7a-e297d4bf7e47.png', 'width': 960}, vector=None, shard_key=None),\n",
       " ScoredPoint(id=1111478730993455214, version=21275, score=0.31507182, payload={'channel_id': '989274728155992124', 'content': \"**Immerse yourself in the enchanting world of the beautiful Indian goddess Menaka, as she radiates ethereal beauty and grace. Picture her standing amidst a celestial backdrop, surrounded by swirling colors and delicate flower petals that dance to the rhythm of her presence. Capture Menaka's resplendent form adorned in a flowing traditional Indian attire, embellished with intricate patterns and exquisite jewelry that accentuates her divine allure. Let her luminous eyes reflect wisdom and compassion, while her serene smile imparts a sense of joy and tranquility. Surround Menaka with an aura of nature's abundance, where lush gardens and blooming flowers create a tapestry of vibrant colors. In her presence, flowers cascade from the heavens, symbolizing her connection to the natural world and her ability to bring forth life and beauty. Let celestial beings and mystical creatures be drawn to Menaka's radiance, their presence representing the harmonious bond between the divine and mortal realms. As she extends her graceful hands, delicate fireflies illuminate the scene, creating a magical glow that adds an enchanting touch to the atmosphere. Through this captivating artwork, explore the multifaceted nature of Menaka, embodying her role as a goddess of beauty, love, and enchantment. Allow her presence to inspire a deep appreciation for the elegance and grace that exists within every individual, reminding us of the divine spark that resides within each of us. May this prompt invite you to embark on a creative journey, capturing the timeless beauty and captivating essence of the lovely goddess Menaka, while celebrating the rich mythology and cultural heritage of India.** - Image #3 <@797547282656133120>\", 'height': 1024, 'id': '1111478731253493800', 'size': 1928183, 'split': 'train', 'timestamp': '2023-05-26T02:19:39.807000+00:00', 'url': 'https://cdn.discordapp.com/attachments/989274728155992124/1111478730993455214/ark8_Immerse_yourself_in_the_enchanting_world_of_the_beautiful__5f0d7019-8a52-4c9c-8c6a-83c6f890f7e3.png', 'width': 1024}, vector=None, shard_key=None),\n",
       " ScoredPoint(id=1131129358241763338, version=3116, score=0.31260133, payload={'channel_id': '989268300473192561', 'content': '**A full body standing hyper realistic beautiful Amba, the mythological princess ready to get married in her grand palace, wearing red Indian gorgeous wedding attire, looking like a goddess, heavy jewellery, dreamy, cinematic --v 5.2** - Image #1 <@1090201395971510353>', 'height': 1024, 'id': '1131129358535381082', 'size': 1529327, 'split': 'train', 'timestamp': '2023-07-19T07:44:14.442000+00:00', 'url': 'https://cdn.discordapp.com/attachments/989268300473192561/1131129358241763338/shrinkhala._A_full_body_standing_hyper_realistic_beautiful_Amba_2d6c3fb7-7a33-429d-b3c7-5e2219121eaf.png', 'width': 1024}, vector=None, shard_key=None),\n",
       " ScoredPoint(id=1130600769947709590, version=3224, score=0.31143582, payload={'channel_id': '989268300473192561', 'content': '**<https://s.mj.run/Sazc6WYeq2Y> Full body image of a woman in a very colorful Indian traditional gown with the likeness of goddess Sita, running away, facing forward in a photorealistic image in the deep Indian forest. Use a Nikon D850 DSLR 4k camera with a 200mm lens and F 1.2 aperture setting to create a shallow depth of field and blur the background. The woman should be in a grassy savanna, with a warm, orange glow from the setting sun to create a dramatic effect. --v 5** - Image #4 <@1115617695166107761>', 'height': 1024, 'id': '1130600770249687101', 'size': 1146050, 'split': 'train', 'timestamp': '2023-07-17T20:43:49.174000+00:00', 'url': 'https://cdn.discordapp.com/attachments/989268300473192561/1130600769947709590/tinapinar_Full_body_image_of_a_woman_in_a_very_colorful_Indian_ddbc6d87-0f84-4b63-838b-8438488466c1.png', 'width': 1024}, vector=None, shard_key=None),\n",
       " ScoredPoint(id=1131118007737913394, version=3110, score=0.31129834, payload={'channel_id': '989268300473192561', 'content': '**A strikingly most beautiful 18 year old Indian Princess in Indian wedding clothes, rich, palace, gorgeous, full body, dreamy, Godess, mythological era, hyper realistic human, cinematic, vivid lighting, wide frame --ar 16:9 --v 5.1** - Image #2 <@1090201395971510353>', 'height': 816, 'id': '1131118007599513721', 'size': 1477176, 'split': 'train', 'timestamp': '2023-07-19T06:59:08.168000+00:00', 'url': 'https://cdn.discordapp.com/attachments/989268300473192561/1131118007737913394/shrinkhala._A_strikingly_most_beautiful_18_year_old_Indian_Prin_e0ddbbb9-5a7f-4ce3-bc69-351fa95ca826.png', 'width': 1456}, vector=None, shard_key=None)]"
      ]
     },
     "execution_count": 38,
     "metadata": {},
     "output_type": "execute_result"
    }
   ],
   "source": [
    "client.search(collection_name='midjourney-CLIP-ViT-H-14-laion2B-s32B-b79K', query_vector=(\"image\", query_vector))"
   ]
  },
  {
   "cell_type": "code",
   "execution_count": 30,
   "metadata": {},
   "outputs": [],
   "source": [
    "discover_queries_c = [\n",
    "    models.DiscoverRequest(\n",
    "        target= query_vector,\n",
    "        context=[\n",
    "            models.ContextExamplePair(\n",
    "                positive=1131129358241763338,\n",
    "                negative=1098791542585569300,\n",
    "            ),\n",
    "            models.ContextExamplePair(\n",
    "                positive=1110040012537483386,\n",
    "                negative=1101048161566466119,\n",
    "            ),\n",
    "            models.ContextExamplePair(\n",
    "                positive=1110040012537483386,\n",
    "                negative=1101170081070862467,\n",
    "            ),\n",
    "            models.ContextExamplePair(\n",
    "                positive=1134749140329447434,\n",
    "                negative=1090855180980977766,\n",
    "            ),\n",
    "            models.ContextExamplePair(\n",
    "                positive=1105061198375952464,\n",
    "                negative=1101048161566466119,\n",
    "            ),\n",
    "            models.ContextExamplePair(\n",
    "                positive=1131118007737913394,\n",
    "                negative=1143540032397905920,\n",
    "            ),\n",
    "            models.ContextExamplePair(\n",
    "                positive=1108200330333798471,\n",
    "                negative=1101170081070862467\n",
    "            ),\n",
    "            models.ContextExamplePair(\n",
    "                positive=1110040012537483386,\n",
    "                negative=1117902423437094972\n",
    "            ),\n",
    "            models.ContextExamplePair(\n",
    "                positive=1131127377594953768,\n",
    "                negative=1119896408917557258\n",
    "            ),\n",
    "            models.ContextExamplePair(\n",
    "                positive=1128873598568894534,\n",
    "                negative=1130600242098737232\n",
    "            ),\n",
    "\n",
    "        ],\n",
    "        using = \"image\",\n",
    "        with_payload = True,\n",
    "        limit=10,\n",
    "    ),\n",
    "]"
   ]
  },
  {
   "cell_type": "code",
   "execution_count": 39,
   "metadata": {},
   "outputs": [],
   "source": [
    "discover_queries_c = [\n",
    "    models.DiscoverRequest(\n",
    "\n",
    "        context=[\n",
    "            models.ContextExamplePair(\n",
    "                positive=1131129358241763338,\n",
    "                negative=1098791542585569300,\n",
    "            ),\n",
    "            models.ContextExamplePair(\n",
    "                positive=1110040012537483386,\n",
    "                negative=1101048161566466119,\n",
    "            ),\n",
    "            models.ContextExamplePair(\n",
    "                positive=1110040012537483386,\n",
    "                negative=1101170081070862467,\n",
    "            ),\n",
    "            models.ContextExamplePair(\n",
    "                positive=1134749140329447434,\n",
    "                negative=1090855180980977766,\n",
    "            ),\n",
    "            models.ContextExamplePair(\n",
    "                positive=1105061198375952464,\n",
    "                negative=1101048161566466119,\n",
    "            ),\n",
    "            models.ContextExamplePair(\n",
    "                positive=1131118007737913394,\n",
    "                negative=1143540032397905920,\n",
    "            ),\n",
    "            models.ContextExamplePair(\n",
    "                positive=1108200330333798471,\n",
    "                negative=1101170081070862467\n",
    "            ),\n",
    "            models.ContextExamplePair(\n",
    "                positive=1110040012537483386,\n",
    "                negative=1117902423437094972\n",
    "            ),\n",
    "            models.ContextExamplePair(\n",
    "                positive=1131127377594953768,\n",
    "                negative=1119896408917557258\n",
    "            ),\n",
    "            models.ContextExamplePair(\n",
    "                positive=1128873598568894534,\n",
    "                negative=1130600242098737232\n",
    "            ),\n",
    "\n",
    "        ],\n",
    "        using = \"image\",\n",
    "        with_payload = True,\n",
    "        limit=10,\n",
    "    ),\n",
    "]"
   ]
  },
  {
   "cell_type": "code",
   "execution_count": 40,
   "metadata": {},
   "outputs": [],
   "source": [
    "Context_R = client.discover_batch(collection_name='midjourney-CLIP-ViT-H-14-laion2B-s32B-b79K', requests=discover_queries_c)"
   ]
  },
  {
   "cell_type": "code",
   "execution_count": 41,
   "metadata": {},
   "outputs": [
    {
     "data": {
      "text/plain": [
       "[[ScoredPoint(id=1103679146342756442, version=7886, score=0.0, payload={'channel_id': '989268300473192561', 'content': '**A filter of distortion and darkness, with an occluded environment and a color scheme of muted blues and greens. brain , hypnosis , univers ,fantasty scenchypnose and moneys** - Image #3 <@422487813750128640>', 'height': 1024, 'id': '1103679146787356744', 'size': 1721447, 'split': 'train', 'timestamp': '2023-05-04T13:46:53.961000+00:00', 'url': 'https://cdn.discordapp.com/attachments/989268300473192561/1103679146342756442/rezdIgItal_A_filter_of_distortion_and_darkness_with_an_occluded_81fdf2dd-493b-4fe2-af52-19821392cb72.png', 'width': 1024}, vector=None, shard_key=None),\n",
       "  ScoredPoint(id=1101027445773193228, version=8042, score=0.0, payload={'channel_id': '989268300473192561', 'content': '**the most beautiful modern Indian woman, futuristic outfit design lookbook fashion, haute couture, photography by tim walker, futuristic eyewear glasses only ::5, the glasses are gleaming and reflective, minimalistic, cat eyeliner makeup, red lipstick, seamless minimalistic backdrop --v 5 --s 750** - Image #2 <@1078943767349960714>', 'height': 1024, 'id': '1101027446100340776', 'size': 1336841, 'split': 'train', 'timestamp': '2023-04-27T06:09:59.251000+00:00', 'url': 'https://cdn.discordapp.com/attachments/989268300473192561/1101027445773193228/Carinka_the_most_beautiful_modern_Indian_woman_futuristic_outfi_8b3db576-c258-4f3a-a917-58aaf843d236.png', 'width': 1024}, vector=None, shard_key=None),\n",
       "  ScoredPoint(id=1104944428004671690, version=11907, score=0.0, payload={'channel_id': '997260968411279410', 'content': '**dreamlike,high quality,yokai** - Image #3 <@395203721694543873>', 'height': 1024, 'id': '1104944428294099076', 'size': 1985399, 'split': 'train', 'timestamp': '2023-05-08T01:34:40.580000+00:00', 'url': 'https://cdn.discordapp.com/attachments/997260968411279410/1104944428004671690/ONEQ_dreamlikehigh_qualityyokai_c24371f1-da2b-4e76-a95c-44498f2309ab.png', 'width': 1024}, vector=None, shard_key=None),\n",
       "  ScoredPoint(id=1129032137287417957, version=9915, score=0.0, payload={'channel_id': '997260968411279410', 'content': '**surreal collage style ad using indian textile for indian polki jewellery - with miniature art elements** - Image #3 <@1098517160906719233>', 'height': 1024, 'id': '1129032137249660980', 'size': 1995250, 'split': 'train', 'timestamp': '2023-07-13T12:50:37.923000+00:00', 'url': 'https://cdn.discordapp.com/attachments/997260968411279410/1129032137287417957/kuhu0161_surreal_collage_style_ad_using_indian_textile_for_indi_efc496fa-2950-48de-b8ac-b7d6dff861ea.png', 'width': 1024}, vector=None, shard_key=None),\n",
       "  ScoredPoint(id=1104959577524551700, version=7440, score=0.0, payload={'channel_id': '989268300473192561', 'content': '**Dios Saturno Cabeza de Saturno y cuerpo de Dios, armadura celestial, Color Grading, Photography, Ultra-Wide Angle, Depth of Field, hyper-detailed, beautifully color-coded, insane details, intricate details, beautifully color graded, Unreal Engine, Color Grading, Photography, Photoshoot,Depth of Field, DOF, Tilt Blur, Shutter Speed \\u200b\\u200b1/1000, F/22, White Balance , 32k, Super-Resolution, Megapixel, ProPhoto RGB, VR, Halfrear Lighting, Backlight, Natural Lighting, Incandescent, Optical Fiber, Moody Lighting, Cinematic Lighting, Studio Lighting, Soft Lighting, Volumetric, Contre-Jour , Beautiful Lighting, Accent Lighting, Global Illumination, Screen Space Global Illumination, Ray Tracing Global Illumination, Optics, Scattering, Glowing, Shadows, Rough, Shimmering, Ray Tracing Reflections, Lumen Reflections, Screen Space Reflections, Diffraction Grad ing, Chromatic Aberration, GB Displacement, Scan Lines, Ray Traced, Ray Tracing Ambient Occlusion, Anti-Aliasing, FKAA, TXAA, RTX, SSAO, Shaders, OpenGL-Shaders, GLSL-Shaders, Post Processing, Post-Production, Cel Shading , Tone Mapping, CGI, VFX, SFX, insanely detailed and intricate, hypermaximalist, elegant, hyper realistic, super detailed, dynamic pose, photography, 8k , --v 5.1** - Image #2 <@892716119876567040>', 'height': 1024, 'id': '1104959577860100136', 'size': 1858807, 'split': 'train', 'timestamp': '2023-05-08T02:34:52.518000+00:00', 'url': 'https://cdn.discordapp.com/attachments/989268300473192561/1104959577524551700/Lightman47_Dios_Saturno_Cabeza_de_Saturno_y_cuerpo_de_Dios_arma_93aa6b63-b639-4e96-9dcd-ee80063bd39e.png', 'width': 1024}, vector=None, shard_key=None),\n",
       "  ScoredPoint(id=1104081986349437078, version=7751, score=0.0, payload={'channel_id': '989268300473192561', 'content': '**The beauty and strength of Pashtun women, highlighting their unique dress, jewelry, and cultural traditions. Consider incorporating elements of traditional Pashtun embroidery, shot on Sony A7RIII + SIGMA 150-600/5-6.3 DG DN OS Sports, 8k --q 2 --ar 16:9 --v 5.1** - Image #1 <@543856213431943189>', 'height': 816, 'id': '1104081986273947709', 'size': 1202115, 'split': 'train', 'timestamp': '2023-05-05T16:27:38.379000+00:00', 'url': 'https://cdn.discordapp.com/attachments/989268300473192561/1104081986349437078/adilhk_The_beauty_and_strength_of_Pashtun_women_highlighting_th_c7024d83-ffc5-46cc-a246-2bca151c863a.png', 'width': 1456}, vector=None, shard_key=None),\n",
       "  ScoredPoint(id=1142230134984818708, version=9049, score=0.0, payload={'channel_id': '997260968411279410', 'content': \"**Renaissance meets Hindu myth: Ganesh as Adam, Shiva as God. 'Harmony of Divinity' symbolizes unity through cosmic touch --ar 16:9 --s 750 --style raw** - Image #2 <@1074428021957726236>\", 'height': 816, 'id': '1142230135156781079', 'size': 2184066, 'split': 'train', 'timestamp': '2023-08-18T22:54:45.831000+00:00', 'url': 'https://cdn.discordapp.com/attachments/997260968411279410/1142230134984818708/neeleshkale_Renaissance_meets_Hindu_myth_Ganesh_as_Adam_Shiva_a_410369b9-a851-45bb-a90f-56e8519dbfef.png', 'width': 1456}, vector=None, shard_key=None),\n",
       "  ScoredPoint(id=1132044234275434567, version=9746, score=0.0, payload={'channel_id': '997260968411279410', 'content': '**sailor moon transforming into an indian bollywood princess** - Image #1 <@1070341274844008489>', 'height': 1024, 'id': '1132044234548072561', 'size': 1494150, 'split': 'train', 'timestamp': '2023-07-21T20:19:37.881000+00:00', 'url': 'https://cdn.discordapp.com/attachments/997260968411279410/1132044234275434567/serenita_sailor_moon_transforming_into_an_indian_bollywood_pri_eb007880-b78d-411c-bdc5-9eea156ab2ba.png', 'width': 1024}, vector=None, shard_key=None),\n",
       "  ScoredPoint(id=1111432542827065476, version=11297, score=0.0, payload={'channel_id': '997260968411279410', 'content': '**<https://s.mj.run/PuaCJASOrvY>, resize dimension in 16:9 --s 750 --v 5.1** - Image #4 <@677449141634334745>', 'height': 1024, 'id': '1111432543250677830', 'size': 1725091, 'split': 'train', 'timestamp': '2023-05-25T23:16:07.729000+00:00', 'url': 'https://cdn.discordapp.com/attachments/997260968411279410/1111432542827065476/Sator_resize_dimension_in_169_a2936cce-8168-4c9b-86a2-44b5c803e635.png', 'width': 1024}, vector=None, shard_key=None),\n",
       "  ScoredPoint(id=1142030809201651772, version=9103, score=0.0, payload={'channel_id': '997260968411279410', 'content': '**a stylized depiction of Medusa with her serpentine hair transformed into a marble statue. The design represents the duality of vulnerability and resilience, making a powerful statement about overcoming challenges as a t shirt design** - Image #4 <@706382799850045440>', 'height': 1024, 'id': '1142030809503649873', 'size': 1219303, 'split': 'train', 'timestamp': '2023-08-18T09:42:42.892000+00:00', 'url': 'https://cdn.discordapp.com/attachments/997260968411279410/1142030809201651772/TripleHypeMan_a_stylized_depiction_of_Medusa_with_her_serpentin_49d261bd-1b63-4999-8cd0-4e3904c40273.png', 'width': 1024}, vector=None, shard_key=None)]]"
      ]
     },
     "execution_count": 41,
     "metadata": {},
     "output_type": "execute_result"
    }
   ],
   "source": [
    "Context_R"
   ]
  },
  {
   "cell_type": "code",
   "execution_count": 29,
   "metadata": {},
   "outputs": [],
   "source": [
    "discover_queries_t = [\n",
    "    models.DiscoverRequest(\n",
    "        target = query_vector,\n",
    "\n",
    "        using = \"image\",\n",
    "        with_payload = True,\n",
    "        limit=10,\n",
    "    ),\n",
    "]"
   ]
  },
  {
   "cell_type": "code",
   "execution_count": 30,
   "metadata": {},
   "outputs": [
    {
     "data": {
      "text/plain": [
       "[[ScoredPoint(id=1143544005620150422, version=12928, score=0.61974955, payload={'channel_id': '989274728155992124', 'content': '**classic elegant style white wedding dress, bridal shop background, natural light, detail shot, photography --ar 16:9** - Image #4 <@1115279317245624393>', 'height': 816, 'id': '1143544005896966164', 'size': 1100967, 'split': 'train', 'timestamp': '2023-08-22T13:55:37.026000+00:00', 'url': 'https://cdn.discordapp.com/attachments/989274728155992124/1143544005620150422/teamkube_classic_elegant_style_white_wedding_dress_bridal_shop__e8e3825e-b6c4-455a-b98f-8f20b78a7cbb.png', 'width': 1456}, vector=None, shard_key=None),\n",
       "  ScoredPoint(id=1143540032397905920, version=12926, score=0.6184509, payload={'channel_id': '989274728155992124', 'content': '**elegant white wedding dress, romantic light, photography, detail shot --ar 20:9** - Image #3 <@1115279317245624393>', 'height': 736, 'id': '1143540032938975445', 'size': 1551460, 'split': 'train', 'timestamp': '2023-08-22T13:39:49.799000+00:00', 'url': 'https://cdn.discordapp.com/attachments/989274728155992124/1143540032397905920/teamkube_elegant_white_wedding_dress_romantic_light_photography_cab06287-ff04-4794-82c9-eefe0fecb593.png', 'width': 1632}, vector=None, shard_key=None),\n",
       "  ScoredPoint(id=1143541541802090586, version=12892, score=0.6172977, payload={'channel_id': '989274728155992124', 'content': '**elegant white wedding dress, romantic light, photography, detail shot --ar 20:9** - Image #3 <@975976946712342548>', 'height': 736, 'id': '1143541542057955428', 'size': 1580355, 'split': 'train', 'timestamp': '2023-08-22T13:45:49.601000+00:00', 'url': 'https://cdn.discordapp.com/attachments/989274728155992124/1143541541802090586/optimag2023_elegant_white_wedding_dress_romantic_light_photogra_913ff353-6745-49eb-bf1e-d45ade46db69.png', 'width': 1632}, vector=None, shard_key=None),\n",
       "  ScoredPoint(id=1143553007284396072, version=12931, score=0.6166165, payload={'channel_id': '989274728155992124', 'content': '**elegant white wedding dress, romantic light, photography, detail shot --ar 20:9** - Image #3 <@975976946712342548>', 'height': 736, 'id': '1143553007531864074', 'size': 1500941, 'split': 'train', 'timestamp': '2023-08-22T14:31:23.183000+00:00', 'url': 'https://cdn.discordapp.com/attachments/989274728155992124/1143553007284396072/optimag2023_elegant_white_wedding_dress_romantic_light_photogra_818a4fa7-83f5-4b6a-990f-dcb65f88ec7c.png', 'width': 1632}, vector=None, shard_key=None),\n",
       "  ScoredPoint(id=1143547261830299759, version=12902, score=0.61641866, payload={'channel_id': '989274728155992124', 'content': '**elegant white wedding dress, photography, detail shot --ar 16:9** - Image #1 <@1138370315852984350>', 'height': 816, 'id': '1143547261939372064', 'size': 1608188, 'split': 'train', 'timestamp': '2023-08-22T14:08:33.327000+00:00', 'url': 'https://cdn.discordapp.com/attachments/989274728155992124/1143547261830299759/209787_elegant_white_wedding_dress_photography_detail_shot_6c28a5db-70d7-4035-a8cc-72acf077d180.png', 'width': 1456}, vector=None, shard_key=None),\n",
       "  ScoredPoint(id=1129710047161766018, version=3349, score=0.6160992, payload={'channel_id': '989268300473192561', 'content': '**the bride room, with her hanging dress. Shoes, bag, and jowellery are on the bed. during the golden hour. No window on the wall. No frame. Realistic picture.** - Image #3 <@1092908704111792238>', 'height': 1024, 'id': '1129710047530852382', 'size': 1517597, 'split': 'train', 'timestamp': '2023-07-15T09:44:24.329000+00:00', 'url': 'https://cdn.discordapp.com/attachments/989268300473192561/1129710047161766018/4i4d4n3p_the_bride_room_with_her_hanging_dress._Shoes_bag_and_j_cb4b938e-cd36-416d-8bce-8c619993aa28.png', 'width': 1024}, vector=None, shard_key=None),\n",
       "  ScoredPoint(id=1143552883065884793, version=12887, score=0.6156467, payload={'channel_id': '989274728155992124', 'content': '**elegant white wedding dress, romantic light, photography, detail shot --ar 20:9** - Image #1 <@975976946712342548>', 'height': 736, 'id': '1143552883405631548', 'size': 1660490, 'split': 'train', 'timestamp': '2023-08-22T14:30:53.589000+00:00', 'url': 'https://cdn.discordapp.com/attachments/989274728155992124/1143552883065884793/optimag2023_elegant_white_wedding_dress_romantic_light_photogra_84e7cb57-d8bc-4e23-968e-96f8d868beb3.png', 'width': 1632}, vector=None, shard_key=None),\n",
       "  ScoredPoint(id=1143542568425095240, version=12913, score=0.61476916, payload={'channel_id': '989274728155992124', 'content': '**mermaid style white wedding dress, bridal shop background, natural light, photography --ar 16:9** - Image #2 <@1115279317245624393>', 'height': 816, 'id': '1143542568676757655', 'size': 1449829, 'split': 'train', 'timestamp': '2023-08-22T13:49:54.366000+00:00', 'url': 'https://cdn.discordapp.com/attachments/989274728155992124/1143542568425095240/teamkube_mermaid_style_white_wedding_dress_bridal_shop_backgrou_699d9652-fc74-4bd4-a0cc-fdbfc1ee09b7.png', 'width': 1456}, vector=None, shard_key=None),\n",
       "  ScoredPoint(id=1143551998101311580, version=12918, score=0.614599, payload={'channel_id': '989274728155992124', 'content': '**elegant white wedding dress, romantic light, photography, detail shot --ar 20:9** - Image #1 <@975976946712342548>', 'height': 736, 'id': '1143551998432657488', 'size': 1574238, 'split': 'train', 'timestamp': '2023-08-22T14:27:22.595000+00:00', 'url': 'https://cdn.discordapp.com/attachments/989274728155992124/1143551998101311580/optimag2023_elegant_white_wedding_dress_romantic_light_photogra_86dc027a-8b5b-4b2b-be3b-72bf12cd8fad.png', 'width': 1632}, vector=None, shard_key=None),\n",
       "  ScoredPoint(id=1094188855273467934, version=12348, score=0.61326504, payload={'channel_id': '997260968411279410', 'content': '**Young asian wife in wedding dress, trapped inside an imaginary cage made of letters, inside a house, daytime, hyper - detailed, Cinematic, Photoshoot, Photo taken with Canon EOS R5, cinematic, full lightning, absolute realism, Super - Resolution, Megapixel, Pro Photo | 8k 80mm/ relax 8k Shadow depth of field high detail realistic hyper Realistic, hd smooth, 8k, hyper detail with a Nikon D850 and a Nikon AF-s NIKKOR 70-200mm f/2.8E FL ED VR lens, lit with high-key lightning to create a soft and ethereal feel, a shallow depth of field 4k 8k --v 5 --ar 3:2 --v 5 --s 250** - Image #3 <@345809254265126912>', 'height': 896, 'id': '1094188855525134446', 'size': 1633779, 'split': 'train', 'timestamp': '2023-04-08T09:15:52.203000+00:00', 'url': 'https://cdn.discordapp.com/attachments/997260968411279410/1094188855273467934/SyandyHan_Young_asian_wife_in_wedding_dress_trapped_inside_an_i_3c82b454-ec09-4f28-83d0-9c333682aa47.png', 'width': 1344}, vector=None, shard_key=None)]]"
      ]
     },
     "execution_count": 30,
     "metadata": {},
     "output_type": "execute_result"
    }
   ],
   "source": [
    "client.discover_batch(collection_name='midjourney-CLIP-ViT-H-14-laion2B-s32B-b79K', requests=discover_queries_t)"
   ]
  },
  {
   "cell_type": "code",
   "execution_count": 39,
   "metadata": {},
   "outputs": [],
   "source": [
    "discover_queries_beach = [\n",
    "    models.DiscoverRequest(\n",
    "        target=query_vector,\n",
    "        context=[\n",
    "            models.ContextExamplePair(\n",
    "                positive=1086112200613167174,\n",
    "                negative=1105716512397991966,\n",
    "            ),\n",
    "            models.ContextExamplePair(\n",
    "                positive=1086114343550197871,\n",
    "                negative=1113733762002452510,\n",
    "            ),\n",
    "            models.ContextExamplePair(\n",
    "                positive=1086112746514427994,\n",
    "                negative=1113733766049968158,\n",
    "            ),\n",
    "            models.ContextExamplePair(\n",
    "                positive=1086114484302643231,\n",
    "                negative=1113733766049968158,\n",
    "            ),\n",
    "            models.ContextExamplePair(\n",
    "                positive=1087769536410963968,\n",
    "                negative=1108620800199753728,\n",
    "            )\n",
    "\n",
    "        ],\n",
    "        using = \"image\",\n",
    "        with_payload = True,\n",
    "        limit=10,\n",
    "    ),\n",
    "]"
   ]
  },
  {
   "cell_type": "code",
   "execution_count": 40,
   "metadata": {},
   "outputs": [
    {
     "data": {
      "text/plain": [
       "[[ScoredPoint(id=1129710047161766018, version=3349, score=5.622032, payload={'channel_id': '989268300473192561', 'content': '**the bride room, with her hanging dress. Shoes, bag, and jowellery are on the bed. during the golden hour. No window on the wall. No frame. Realistic picture.** - Image #3 <@1092908704111792238>', 'height': 1024, 'id': '1129710047530852382', 'size': 1517597, 'split': 'train', 'timestamp': '2023-07-15T09:44:24.329000+00:00', 'url': 'https://cdn.discordapp.com/attachments/989268300473192561/1129710047161766018/4i4d4n3p_the_bride_room_with_her_hanging_dress._Shoes_bag_and_j_cb4b938e-cd36-416d-8bce-8c619993aa28.png', 'width': 1024}, vector=None, shard_key=None),\n",
       "  ScoredPoint(id=1143542568425095240, version=12913, score=5.6202483, payload={'channel_id': '989274728155992124', 'content': '**mermaid style white wedding dress, bridal shop background, natural light, photography --ar 16:9** - Image #2 <@1115279317245624393>', 'height': 816, 'id': '1143542568676757655', 'size': 1449829, 'split': 'train', 'timestamp': '2023-08-22T13:49:54.366000+00:00', 'url': 'https://cdn.discordapp.com/attachments/989274728155992124/1143542568425095240/teamkube_mermaid_style_white_wedding_dress_bridal_shop_backgrou_699d9652-fc74-4bd4-a0cc-fdbfc1ee09b7.png', 'width': 1456}, vector=None, shard_key=None),\n",
       "  ScoredPoint(id=1143553007284396072, version=12931, score=5.6189985, payload={'channel_id': '989274728155992124', 'content': '**elegant white wedding dress, romantic light, photography, detail shot --ar 20:9** - Image #3 <@975976946712342548>', 'height': 736, 'id': '1143553007531864074', 'size': 1500941, 'split': 'train', 'timestamp': '2023-08-22T14:31:23.183000+00:00', 'url': 'https://cdn.discordapp.com/attachments/989274728155992124/1143553007284396072/optimag2023_elegant_white_wedding_dress_romantic_light_photogra_818a4fa7-83f5-4b6a-990f-dcb65f88ec7c.png', 'width': 1632}, vector=None, shard_key=None),\n",
       "  ScoredPoint(id=1143541541802090586, version=12892, score=5.6186523, payload={'channel_id': '989274728155992124', 'content': '**elegant white wedding dress, romantic light, photography, detail shot --ar 20:9** - Image #3 <@975976946712342548>', 'height': 736, 'id': '1143541542057955428', 'size': 1580355, 'split': 'train', 'timestamp': '2023-08-22T13:45:49.601000+00:00', 'url': 'https://cdn.discordapp.com/attachments/989274728155992124/1143541541802090586/optimag2023_elegant_white_wedding_dress_romantic_light_photogra_913ff353-6745-49eb-bf1e-d45ade46db69.png', 'width': 1632}, vector=None, shard_key=None),\n",
       "  ScoredPoint(id=1143551998101311580, version=12918, score=5.6156416, payload={'channel_id': '989274728155992124', 'content': '**elegant white wedding dress, romantic light, photography, detail shot --ar 20:9** - Image #1 <@975976946712342548>', 'height': 736, 'id': '1143551998432657488', 'size': 1574238, 'split': 'train', 'timestamp': '2023-08-22T14:27:22.595000+00:00', 'url': 'https://cdn.discordapp.com/attachments/989274728155992124/1143551998101311580/optimag2023_elegant_white_wedding_dress_romantic_light_photogra_86dc027a-8b5b-4b2b-be3b-72bf12cd8fad.png', 'width': 1632}, vector=None, shard_key=None),\n",
       "  ScoredPoint(id=1105177361864990800, version=7382, score=5.6144686, payload={'channel_id': '989268300473192561', 'content': '**<https://s.mj.run/-k2NQV8-nPs> Roses on the moon, a photoshoot, designer space suits, earth in view, beautiful, stunning mixed race woman, dripping in big expensive Bvlgari Diamonds, various colours of gem stones, bulky gems, pastel Hair colour, in Victoria Beckham Couture, contemporary photography by Tyler Shields, HD, stunning visuals, --q 2 --v 5.1 --s 750 --v 5** - Image #2 <@662970336865812486>', 'height': 1024, 'id': '1105177362133417984', 'size': 1387332, 'split': 'train', 'timestamp': '2023-05-08T17:00:16.335000+00:00', 'url': 'https://cdn.discordapp.com/attachments/989268300473192561/1105177361864990800/themanthelegend85_Roses_on_the_moon_a_photoshoot_designer_space_7f935e79-7631-4ddc-8816-f615092f8890.png', 'width': 1024}, vector=None, shard_key=None),\n",
       "  ScoredPoint(id=1144572317826043944, version=12564, score=5.6142335, payload={'channel_id': '989274728155992124', 'content': '**flowy bridal veil, white flowers, woman from behind, light background, light atmosphere, photography** - Image #1 <@1115279317245624393>', 'height': 1024, 'id': '1144572317784088598', 'size': 1431608, 'split': 'train', 'timestamp': '2023-08-25T10:01:45.685000+00:00', 'url': 'https://cdn.discordapp.com/attachments/989274728155992124/1144572317826043944/teamkube_flowy_bridal_veil_white_flowers_woman_from_behind_ligh_65e392f1-4cef-45bf-8d37-b170ba172d30.png', 'width': 1024}, vector=None, shard_key=None),\n",
       "  ScoredPoint(id=1129703835707908106, version=3342, score=5.6135187, payload={'channel_id': '989268300473192561', 'content': '**une robe de mariée suspendue dans la chambre avant son essayage. Il y a de jolies chaussures, les bijoux et le sac à main posées sur le lit. photo réaliste.** - Image #3 <@1092908704111792238>', 'height': 1024, 'id': '1129703835988930600', 'size': 1372781, 'split': 'train', 'timestamp': '2023-07-15T09:19:43.382000+00:00', 'url': 'https://cdn.discordapp.com/attachments/989268300473192561/1129703835707908106/4i4d4n3p_une_robe_de_mariee_suspendue_dans_la_chambre_avant_son_ad916906-521d-4736-a754-cc3a8583355e.png', 'width': 1024}, vector=None, shard_key=None),\n",
       "  ScoredPoint(id=1124307400963403877, version=17162, score=5.613357, payload={'channel_id': '989274728155992124', 'content': '**a spacious atelier in the middle stands a mannequin with a cute puffy wedding dress, decorated with embroidery and lace** - Image #3 <@1084497982705119243>', 'height': 1024, 'id': '1124307401277980814', 'size': 1570685, 'split': 'train', 'timestamp': '2023-06-30T11:56:13.086000+00:00', 'url': 'https://cdn.discordapp.com/attachments/989274728155992124/1124307400963403877/vereskovaya_a_spacious_atelier_in_the_middle_stands_a_mannequin_d3f3642e-7927-4239-a5e2-a2fcae7bdf32.png', 'width': 1024}, vector=None, shard_key=None),\n",
       "  ScoredPoint(id=1129704145293680650, version=3350, score=5.612273, payload={'channel_id': '989268300473192561', 'content': '**une robe de mariée suspendue dans la chambre avant son essayage. Il y a de jolies chaussures, les bijoux et le sac à main posées sur le lit. photo réaliste.** - Image #4 <@1092908704111792238>', 'height': 1024, 'id': '1129704145646014464', 'size': 1506912, 'split': 'train', 'timestamp': '2023-07-15T09:20:57.210000+00:00', 'url': 'https://cdn.discordapp.com/attachments/989268300473192561/1129704145293680650/4i4d4n3p_une_robe_de_mariee_suspendue_dans_la_chambre_avant_son_a54b44fa-efde-4e27-8b1f-a066b11e2d24.png', 'width': 1024}, vector=None, shard_key=None)]]"
      ]
     },
     "execution_count": 40,
     "metadata": {},
     "output_type": "execute_result"
    }
   ],
   "source": [
    "client.discover_batch(collection_name='midjourney-CLIP-ViT-H-14-laion2B-s32B-b79K', requests=discover_queries_beach)"
   ]
  },
  {
   "cell_type": "code",
   "execution_count": null,
   "metadata": {},
   "outputs": [],
   "source": []
  },
  {
   "cell_type": "code",
   "execution_count": null,
   "metadata": {},
   "outputs": [],
   "source": []
  },
  {
   "cell_type": "code",
   "execution_count": null,
   "metadata": {},
   "outputs": [],
   "source": []
  }
 ],
 "metadata": {
  "kernelspec": {
   "display_name": "Python 3",
   "language": "python",
   "name": "python3"
  },
  "language_info": {
   "codemirror_mode": {
    "name": "ipython",
    "version": 3
   },
   "file_extension": ".py",
   "mimetype": "text/x-python",
   "name": "python",
   "nbconvert_exporter": "python",
   "pygments_lexer": "ipython3",
   "version": "3.11.4"
  }
 },
 "nbformat": 4,
 "nbformat_minor": 2
}
